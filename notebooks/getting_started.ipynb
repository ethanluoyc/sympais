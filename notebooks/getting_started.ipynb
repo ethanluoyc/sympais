{
 "cells": [
  {
   "cell_type": "markdown",
   "id": "1fb18fb5-3e22-4ddd-a5b1-ad650e41a171",
   "metadata": {
    "id": "1fb18fb5-3e22-4ddd-a5b1-ad650e41a171"
   },
   "source": [
    "# Getting Started with SYMPAIS\n",
    "[![Open In Colab](https://colab.research.google.com/assets/colab-badge.svg)](https://colab.research.google.com/github/ethanluoyc/sympais/blob/master/notebooks/getting_started.ipynb)"
   ]
  },
  {
   "cell_type": "markdown",
   "id": "969169b9-7fec-4db8-b25a-952ad4e8b231",
   "metadata": {},
   "source": [
    "## Setup"
   ]
  },
  {
   "cell_type": "code",
   "execution_count": null,
   "id": "-WfX_Ns3t6AK",
   "metadata": {
    "id": "-WfX_Ns3t6AK"
   },
   "outputs": [],
   "source": [
    "try:\n",
    "  import google.colab\n",
    "  IN_COLAB = True\n",
    "except:\n",
    "  IN_COLAB = False"
   ]
  },
  {
   "cell_type": "markdown",
   "id": "19fa3b75-c1e3-4484-87f5-754999321c28",
   "metadata": {
    "executionInfo": {
     "elapsed": 179,
     "status": "ok",
     "timestamp": 1622133956353,
     "user": {
      "displayName": "Yicheng Luo",
      "photoUrl": "https://lh3.googleusercontent.com/a-/AOh14Ghsi29q6LEagIn9zJULHRFIoNQ8JnxNZdQGnJsyyg=s64",
      "userId": "00773862150143356368"
     },
     "user_tz": -60
    },
    "id": "_zzncb6rt78z"
   },
   "source": [
    "### Install SYMPAIS"
   ]
  },
  {
   "cell_type": "code",
   "execution_count": null,
   "id": "YeQ8PqN59Nwq",
   "metadata": {
    "id": "YeQ8PqN59Nwq"
   },
   "outputs": [],
   "source": [
    "# (TODO(yl): Simplify when we make this public)\n",
    "GIT_TOKEN = \"\"\n",
    "if IN_COLAB:\n",
    "    !pip install -U pip setuptools wheel\n",
    "    if GIT_TOKEN:\n",
    "        !pip install git+https://{GIT_TOKEN}@github.com/ethanluoyc/sympais.git#egg=sympais\n",
    "    else:\n",
    "        !pip install git+https://github.com/ethanluoyc/sympais.git#egg=sympais"
   ]
  },
  {
   "cell_type": "markdown",
   "id": "1d331b95-cf22-4f57-a84b-a5d56d954b3a",
   "metadata": {
    "id": "4n0FDFsR7Pig"
   },
   "source": [
    "### Download and install pre-built RealPaver v0.4"
   ]
  },
  {
   "cell_type": "code",
   "execution_count": null,
   "id": "XjJlQi6p6POf",
   "metadata": {
    "colab": {
     "base_uri": "https://localhost:8080/"
    },
    "executionInfo": {
     "elapsed": 1027,
     "status": "ok",
     "timestamp": 1622121311400,
     "user": {
      "displayName": "Yicheng Luo",
      "photoUrl": "https://lh3.googleusercontent.com/a-/AOh14Ghsi29q6LEagIn9zJULHRFIoNQ8JnxNZdQGnJsyyg=s64",
      "userId": "00773862150143356368"
     },
     "user_tz": -60
    },
    "id": "XjJlQi6p6POf",
    "outputId": "93b4caf8-90b2-486f-a430-5b40c16360cc"
   },
   "outputs": [],
   "source": [
    "if IN_COLAB:\n",
    "    !curl -L \"https://drive.google.com/uc?export=download&id=1_Im0Ot5TjkzaWfid657AV_gyMpnPuVRa\" -o realpaver\n",
    "    !chmod u+x realpaver\n",
    "    !cp realpaver /usr/local/bin    "
   ]
  },
  {
   "cell_type": "code",
   "execution_count": null,
   "id": "4cd634a8-9e76-4588-b1ca-69242fb9b3e4",
   "metadata": {
    "executionInfo": {
     "elapsed": 2159,
     "status": "ok",
     "timestamp": 1622121349755,
     "user": {
      "displayName": "Yicheng Luo",
      "photoUrl": "https://lh3.googleusercontent.com/a-/AOh14Ghsi29q6LEagIn9zJULHRFIoNQ8JnxNZdQGnJsyyg=s64",
      "userId": "00773862150143356368"
     },
     "user_tz": -60
    },
    "id": "4cd634a8-9e76-4588-b1ca-69242fb9b3e4"
   },
   "outputs": [],
   "source": [
    "import jax\n",
    "import jax.numpy as jnp\n",
    "\n",
    "from sympais import tasks\n",
    "from sympais import methods\n",
    "from sympais.methods import run_sympais, run_dmc\n",
    "import seaborn as sns\n",
    "import matplotlib.pyplot as plt\n",
    "import matplotlib\n",
    "import numpy as onp\n",
    "import math\n",
    "\n",
    "%load_ext autoreload\n",
    "%autoreload 2\n",
    "%matplotlib inline"
   ]
  },
  {
   "cell_type": "markdown",
   "id": "14fe341a-8ceb-464c-99c4-70c95c44bd6b",
   "metadata": {
    "id": "14fe341a-8ceb-464c-99c4-70c95c44bd6b"
   },
   "source": [
    "## Load a task"
   ]
  },
  {
   "cell_type": "code",
   "execution_count": null,
   "id": "f3fa5823-d920-4350-af3c-d0e1338da0fc",
   "metadata": {
    "executionInfo": {
     "elapsed": 309,
     "status": "ok",
     "timestamp": 1622121355323,
     "user": {
      "displayName": "Yicheng Luo",
      "photoUrl": "https://lh3.googleusercontent.com/a-/AOh14Ghsi29q6LEagIn9zJULHRFIoNQ8JnxNZdQGnJsyyg=s64",
      "userId": "00773862150143356368"
     },
     "user_tz": -60
    },
    "id": "f3fa5823-d920-4350-af3c-d0e1338da0fc"
   },
   "outputs": [],
   "source": [
    "task = tasks.Sphere(nd=3)"
   ]
  },
  {
   "cell_type": "code",
   "execution_count": null,
   "id": "e18028bc-4998-4232-b965-9ad8a44b76f2",
   "metadata": {
    "colab": {
     "base_uri": "https://localhost:8080/"
    },
    "executionInfo": {
     "elapsed": 4,
     "status": "ok",
     "timestamp": 1622121355323,
     "user": {
      "displayName": "Yicheng Luo",
      "photoUrl": "https://lh3.googleusercontent.com/a-/AOh14Ghsi29q6LEagIn9zJULHRFIoNQ8JnxNZdQGnJsyyg=s64",
      "userId": "00773862150143356368"
     },
     "user_tz": -60
    },
    "id": "e18028bc-4998-4232-b965-9ad8a44b76f2",
    "outputId": "12bcb7c8-9871-44dd-ae3d-633e9c3542b9"
   },
   "outputs": [],
   "source": [
    "task.profile"
   ]
  },
  {
   "cell_type": "code",
   "execution_count": null,
   "id": "817dc046-015c-44e1-826e-3acd07cef6a8",
   "metadata": {
    "colab": {
     "base_uri": "https://localhost:8080/"
    },
    "executionInfo": {
     "elapsed": 316,
     "status": "ok",
     "timestamp": 1622119891604,
     "user": {
      "displayName": "",
      "photoUrl": "",
      "userId": ""
     },
     "user_tz": -60
    },
    "id": "817dc046-015c-44e1-826e-3acd07cef6a8",
    "outputId": "98b7a08c-7ac9-43a8-c36f-ba8f3c7a03de"
   },
   "outputs": [],
   "source": [
    "task.constraints"
   ]
  },
  {
   "cell_type": "code",
   "execution_count": null,
   "id": "dfffd156-7c5a-4321-bd48-e168528145e4",
   "metadata": {
    "colab": {
     "base_uri": "https://localhost:8080/"
    },
    "executionInfo": {
     "elapsed": 154,
     "status": "ok",
     "timestamp": 1622119893643,
     "user": {
      "displayName": "",
      "photoUrl": "",
      "userId": ""
     },
     "user_tz": -60
    },
    "id": "dfffd156-7c5a-4321-bd48-e168528145e4",
    "outputId": "7b697a5f-f83d-4763-a694-3972a4047a6f"
   },
   "outputs": [],
   "source": [
    "task.domains"
   ]
  },
  {
   "cell_type": "markdown",
   "id": "08ebd40e-7108-4fed-804c-59c59bbcf851",
   "metadata": {
    "id": "08ebd40e-7108-4fed-804c-59c59bbcf851"
   },
   "source": [
    "## Run DMC baseline"
   ]
  },
  {
   "cell_type": "code",
   "execution_count": null,
   "id": "23e58adf-7a48-4631-b026-117f7729c2f4",
   "metadata": {
    "colab": {
     "base_uri": "https://localhost:8080/"
    },
    "executionInfo": {
     "elapsed": 110876,
     "status": "ok",
     "timestamp": 1622120006598,
     "user": {
      "displayName": "",
      "photoUrl": "",
      "userId": ""
     },
     "user_tz": -60
    },
    "id": "23e58adf-7a48-4631-b026-117f7729c2f4",
    "outputId": "bccae320-c93c-43e3-fb9e-09468f631b37"
   },
   "outputs": [],
   "source": [
    "dmc_output = run_dmc(task, seed=0, num_samples=int(1e8))\n",
    "print(dmc_output)"
   ]
  },
  {
   "cell_type": "markdown",
   "id": "121c796c-e255-4114-a0a5-315dfdf979f2",
   "metadata": {
    "id": "121c796c-e255-4114-a0a5-315dfdf979f2"
   },
   "source": [
    "## Run SYMPAIS"
   ]
  },
  {
   "cell_type": "code",
   "execution_count": null,
   "id": "8b9cc4b1-dd92-455e-8a6f-669c4e60e17a",
   "metadata": {
    "colab": {
     "base_uri": "https://localhost:8080/"
    },
    "executionInfo": {
     "elapsed": 48027,
     "status": "ok",
     "timestamp": 1622120312672,
     "user": {
      "displayName": "",
      "photoUrl": "",
      "userId": ""
     },
     "user_tz": -60
    },
    "id": "8b9cc4b1-dd92-455e-8a6f-669c4e60e17a",
    "outputId": "c076f798-b606-42fe-8b3b-fab98376d44f"
   },
   "outputs": [],
   "source": [
    "sympais_output = run_sympais(\n",
    "    task,\n",
    "    key=jax.random.PRNGKey(0), \n",
    "    num_samples=int(1e6),\n",
    "    num_proposals=100,\n",
    "    tune=False, \n",
    "    init='realpaver', \n",
    "    num_warmup_steps=500,\n",
    "    window_size=100\n",
    ")\n",
    "print(sympais_output)"
   ]
  },
  {
   "cell_type": "markdown",
   "id": "949b5f8b-c3b0-414a-b6c2-cad4ef6233d2",
   "metadata": {
    "id": "949b5f8b-c3b0-414a-b6c2-cad4ef6233d2"
   },
   "source": [
    "## Create your own problem\n",
    "\n",
    "In this section, we will show how to implement a new probabilistic analysis\n",
    "task similar to the sphere task above.\n",
    "\n",
    "A probabilistic ananlysis `Task` consists of an input `Profile` $p(\\mathbf{x})$ and a list of constraints `cs`. A user create a new `Task` either by calling the super class constructor or subclassing the base class."
   ]
  },
  {
   "cell_type": "markdown",
   "id": "588c204e-5df6-4a0f-a129-8e55f8aa2a5a",
   "metadata": {},
   "source": [
    "Consider a two-dimensional problems where we would like to know the probablity that the \n",
    "the inputs $x \\in [-10, 10]$ and $y \\in [-10, 10]$ are jointly in the interior of a two-dimensional _cube_. The set of constraints is\n",
    "$$\n",
    "\\begin{align}\n",
    "    x + y &\\leq 1.0, \\\\   \n",
    "    x + y &\\geq -1.0, \\\\\n",
    "    y - x &\\geq -1.0, \\\\\n",
    "    y - x &\\leq 1.0.\n",
    "\\end{align}\n",
    "$$"
   ]
  },
  {
   "cell_type": "markdown",
   "id": "7d4c37c9-871f-4971-b355-07283c20610d",
   "metadata": {},
   "source": [
    "First, let's import the related modules used for defining the tasks"
   ]
  },
  {
   "cell_type": "code",
   "execution_count": null,
   "id": "9773e067-5227-4703-8812-11b2ba9968ea",
   "metadata": {},
   "outputs": [],
   "source": [
    "import sympy\n",
    "from sympais import tasks\n",
    "from sympais import profiles\n",
    "from sympais import distributions as dist"
   ]
  },
  {
   "cell_type": "markdown",
   "id": "93f9cc29-0141-4e6b-97d5-071565017c03",
   "metadata": {},
   "source": [
    "### Independent profile"
   ]
  },
  {
   "cell_type": "markdown",
   "id": "ac354475-82f2-47d9-8e23-13da50ab6bb1",
   "metadata": {},
   "source": [
    "We will first show how to define a task when the input variables are _independent_. \n",
    "We use `Profile` for defining the input distribution and SymPy expressions for defining the constraints.\n",
    "\n",
    "The `Profile` uses the following iterface. To create a customized profile, the user needs to implement \n",
    "`profile.log_prob` and `profile.sample` functions. Note that unlike numpyro distributions, the samples \n",
    "are represented as a dictionary from variable names to their values. This is so that it is easier to integrate \n",
    "with a symbolic execution engine."
   ]
  },
  {
   "cell_type": "code",
   "execution_count": null,
   "id": "805996cf-03de-4da4-bc1a-44214d8dd5ab",
   "metadata": {},
   "outputs": [],
   "source": [
    "help(profiles.Profile)"
   ]
  },
  {
   "cell_type": "markdown",
   "id": "25c487d2-0248-4aae-b047-851c29e50d9c",
   "metadata": {},
   "source": [
    "When the input random variables are independent, we provide a convenience `IndependentProfile` class which allows you to specify the per-component distribution. `IndependentProfile` implements `sample` and `log_prob` by dispatching to the individual components and then aggretating the results."
   ]
  },
  {
   "cell_type": "markdown",
   "id": "678dcaa8-b95c-4025-b85f-b1e3ecad2a41",
   "metadata": {},
   "source": [
    "We are now ready to define a task for the `cube` problem. The code is shown below."
   ]
  },
  {
   "cell_type": "code",
   "execution_count": null,
   "id": "599b7c10-f4d2-4ae2-ad3e-a97d14e20981",
   "metadata": {},
   "outputs": [],
   "source": [
    "class IndependentCubeTask(tasks.Task):\n",
    "    def __init__(self):\n",
    "        profile = profiles.IndependentProfile({\n",
    "            \"x\": dist.Normal(loc=-2, scale=1),\n",
    "            \"y\": dist.Normal(loc=-2, scale=1)\n",
    "        })\n",
    "        domains = {\"x\": (-10., 10.), \"y\": (-10., 10.)}\n",
    "        b = 1.0\n",
    "        x = sympy.Symbol(\"x\")\n",
    "        y = sympy.Symbol(\"y\")\n",
    "        c1 = x + y <= b   # type: sympy.Expr\n",
    "        c2 = x + y >= -b  # type: sympy.Expr\n",
    "        c3 = y - x >= -b  # type: sympy.Expr\n",
    "        c4 = y - x <= b  # type: sympy.Expr\n",
    "        super().__init__(profile, [c1, c2, c3, c4], domains)"
   ]
  },
  {
   "cell_type": "markdown",
   "id": "dc2520e5-6a48-4248-9bf3-0554d83dd1e2",
   "metadata": {},
   "source": [
    "Let us create some helper functions for visualizing the profile and the constraints."
   ]
  },
  {
   "cell_type": "code",
   "execution_count": null,
   "id": "04f08d2b-6cf2-407e-a53c-d49da7cfb3c0",
   "metadata": {
    "id": "04f08d2b-6cf2-407e-a53c-d49da7cfb3c0"
   },
   "outputs": [],
   "source": [
    "b = 1.\n",
    "\n",
    "def f1(x):\n",
    "    return b - x\n",
    "def f2(x):\n",
    "    return -b - x\n",
    "def f3(x):\n",
    "    return -b + x\n",
    "def f4(x):\n",
    "    return b + x\n",
    "\n",
    "x = sympy.Symbol('x')\n",
    "x1, = sympy.solve(f1(x)-f3(x))\n",
    "x2, = sympy.solve(f1(x)-f4(x))\n",
    "x3, = sympy.solve(f2(x)-f3(x))\n",
    "x4, = sympy.solve(f2(x)-f4(x))\n",
    "\n",
    "y1 = f1(x1)\n",
    "y2 = f1(x2)\n",
    "y3 = f2(x3)\n",
    "y4 = f2(x4)\n",
    "\n",
    "N = 200\n",
    "X, Y = jnp.meshgrid(jnp.linspace(-4,4,N), jnp.linspace(-4, 4, N))\n",
    "xr = jnp.linspace(-3, 3, 100)\n",
    "\n",
    "\n",
    "def plot_constraints(ax):\n",
    "    ax.plot(x1, y1, 'k', markersize=5)\n",
    "    ax.plot(x2, y2, 'k', markersize=5)\n",
    "    ax.plot(x3, y3, 'k', markersize=5)\n",
    "    ax.plot(x4, y4, 'k', markersize=5)\n",
    "    ax.fill([x1,x2,x4,x3],[y1,y2,y4,y3],'gray', alpha=0.5);\n",
    "\n",
    "    y1r = f1(xr)\n",
    "    y2r = f2(xr)\n",
    "    y3r = f3(xr)\n",
    "    y4r = f4(xr)\n",
    "    ax.plot(xr, y1r, 'w--')\n",
    "    ax.plot(xr, y2r, 'w--')\n",
    "    ax.plot(xr, y3r, 'w--')\n",
    "    ax.plot(xr, y4r, 'w--')"
   ]
  },
  {
   "cell_type": "code",
   "execution_count": null,
   "id": "404f2863-371e-4c3d-a7fc-aae6c1c1c2a3",
   "metadata": {},
   "outputs": [],
   "source": [
    "cube_task = IndependentCubeTask()"
   ]
  },
  {
   "cell_type": "code",
   "execution_count": null,
   "id": "a331d3f0-cbd8-40eb-acf1-3e1e208b3113",
   "metadata": {},
   "outputs": [],
   "source": [
    "logp = cube_task.profile.log_prob(\n",
    "        {'x': X.reshape(-1), \"y\": Y.reshape(-1)}).reshape((N, N))\n",
    "\n",
    "fig, ax = plt.subplots(1, 1, figsize=(3,3))\n",
    "ax.contourf(X, Y, logp, levels=20, cmap='Blues_r')\n",
    "\n",
    "plot_constraints(ax)\n",
    "ax.set(xlim=(-3,2), ylim=(-3,2), xlabel='$x$', ylabel='$y$');"
   ]
  },
  {
   "cell_type": "markdown",
   "id": "57769a1a-f2bf-4117-adc5-a264cea3d90e",
   "metadata": {},
   "source": [
    "### Correlated profile"
   ]
  },
  {
   "cell_type": "markdown",
   "id": "f99cfea1-5e63-4df8-bd35-73e33e1949e1",
   "metadata": {},
   "source": [
    "In the general case, the inputs may be correlated. In this case, the user needs to provide a custom implementation\n",
    "of `Profile`. We will show how to do this for the case where $x$ and $y$ are jointly Gaussian."
   ]
  },
  {
   "cell_type": "code",
   "execution_count": null,
   "id": "bb94eaa2-a563-4fe0-9551-047e1b667fc3",
   "metadata": {},
   "outputs": [],
   "source": [
    "from numpyro import distributions as numpyro_dist\n",
    "\n",
    "class CorrelatedProfile(profiles.Profile):\n",
    "    def __init__(self):\n",
    "        self._dist = numpyro_dist.MultivariateNormal(\n",
    "            loc=jnp.array([-2, -2]), covariance_matrix=jnp.array([[1.0, 0.8], [0.8, 1.5]])\n",
    "        )\n",
    "    def sample(self, rng, sample_shape=()):\n",
    "        samples = self._dist.sample(rng, sample_shape=sample_shape)\n",
    "        # We needs the [..., ] to maintain batch dimensions.\n",
    "        return {'x': samples[..., 0], 'y': samples[..., 1]}\n",
    "    \n",
    "    def log_prob(self, samples):\n",
    "        samples = jnp.stack([samples['x'], samples['y']], -1)\n",
    "        return self._dist.log_prob(samples)\n",
    "    \n",
    "class CorrelatedCubeTask(tasks.Task):\n",
    "    def __init__(self):\n",
    "        b = 1.0\n",
    "        x = sympy.Symbol(\"x\")\n",
    "        y = sympy.Symbol(\"y\")\n",
    "        c1 = x + y <= b   # type: sympy.Expr\n",
    "        c2 = x + y >= -b  # type: sympy.Expr\n",
    "        c3 = y - x >= -b  # type: sympy.Expr\n",
    "        c4 = y - x <= b  # type: sympy.Expr\n",
    "        profile = CorrelatedProfile()\n",
    "        domains = {\"x\": (-10., 10.), \"y\": (-10., 10.)}\n",
    "        super().__init__(profile, [c1, c2, c3, c4], domains)"
   ]
  },
  {
   "cell_type": "markdown",
   "id": "3aa473c5-ec4c-4920-86db-ae8d06d78ed9",
   "metadata": {},
   "source": [
    "All of the benchmarks are define similarly to the examples shown above. \n",
    "If you are interested, check our the source code in src/sympais/tasks for more examples."
   ]
  },
  {
   "cell_type": "code",
   "execution_count": null,
   "id": "fb07ce45-ae92-44c7-a644-3657ed416dec",
   "metadata": {},
   "outputs": [],
   "source": [
    "correlated_cube_task = CorrelatedCubeTask()\n",
    "logp = correlated_cube_task.profile.log_prob(\n",
    "        {'x': X.reshape(-1), \"y\": Y.reshape(-1)}).reshape((N, N))\n",
    "\n",
    "fig, ax = plt.subplots(1, 1, figsize=(3,3))\n",
    "ax.contourf(X, Y, logp, levels=20, cmap='Blues_r')\n",
    "plot_constraints(ax)\n",
    "ax.set(xlim=(-3,2), ylim=(-3,2), xlabel='$x$', ylabel='$y$');"
   ]
  },
  {
   "cell_type": "markdown",
   "id": "ffc831ae-192c-4a26-b305-13eb26c3761e",
   "metadata": {},
   "source": [
    "### Run samplers"
   ]
  },
  {
   "cell_type": "markdown",
   "id": "ca45fa40-6eaf-42bc-a66e-bd806682b6ec",
   "metadata": {},
   "source": [
    "Now we have our new task definitions, let's run DMC and SYMPAIS on these tasks."
   ]
  },
  {
   "cell_type": "code",
   "execution_count": null,
   "id": "4955c1fa-f9c6-405b-aed4-1de39f0e02ca",
   "metadata": {},
   "outputs": [],
   "source": [
    "dmc_output = run_dmc(correlated_cube_task, seed=0, num_samples=int(1e8), batch_size=int(1e6))\n",
    "print(dmc_output)"
   ]
  },
  {
   "cell_type": "code",
   "execution_count": null,
   "id": "efd6726e-756b-4758-8b66-3a4fa404c598",
   "metadata": {},
   "outputs": [],
   "source": [
    "sympais_output = run_sympais(\n",
    "    correlated_cube_task,\n",
    "    key=jax.random.PRNGKey(0), \n",
    "    num_samples=int(1e6),\n",
    "    num_proposals=100,\n",
    "    tune=False, \n",
    "    init='realpaver', \n",
    "    num_warmup_steps=500,\n",
    "    window_size=100\n",
    ")\n",
    "print(sympais_output)"
   ]
  }
 ],
 "metadata": {
  "colab": {
   "collapsed_sections": [],
   "name": "getting_started.ipynb",
   "provenance": [
    {
     "file_id": "https://github.com/ethanluoyc/sympais/blob/master/notebooks/getting_started.ipynb",
     "timestamp": 1622120676886
    }
   ],
   "toc_visible": true
  },
  "kernelspec": {
   "display_name": "Python 3",
   "language": "python",
   "name": "python3"
  },
  "language_info": {
   "codemirror_mode": {
    "name": "ipython",
    "version": 3
   },
   "file_extension": ".py",
   "mimetype": "text/x-python",
   "name": "python",
   "nbconvert_exporter": "python",
   "pygments_lexer": "ipython3",
   "version": "3.8.3"
  },
  "toc-autonumbering": false
 },
 "nbformat": 4,
 "nbformat_minor": 5
}
