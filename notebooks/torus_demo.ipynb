{
 "cells": [
  {
   "cell_type": "markdown",
   "id": "3caa26d4-53c7-4648-8250-48b5a6d902a4",
   "metadata": {
    "id": "3caa26d4-53c7-4648-8250-48b5a6d902a4"
   },
   "source": [
    "# SYMPAIS Torus Demo\n",
    "[![Open In Colab](https://colab.research.google.com/assets/colab-badge.svg)](https://colab.research.google.com/github/ethanluoyc/sympais/blob/master/notebooks/torus_demo.ipynb)\n",
    "\n",
    "This notebook provides a visual illustration of the SYMPAIS algorithm."
   ]
  },
  {
   "cell_type": "markdown",
   "id": "izm8wHruJfmy",
   "metadata": {
    "id": "izm8wHruJfmy"
   },
   "source": [
    "## Setup"
   ]
  },
  {
   "cell_type": "code",
   "execution_count": null,
   "id": "1X92-73pte31",
   "metadata": {
    "id": "1X92-73pte31"
   },
   "outputs": [],
   "source": [
    "try:\n",
    "  import google.colab\n",
    "  IN_COLAB = True\n",
    "except:\n",
    "  IN_COLAB = False"
   ]
  },
  {
   "cell_type": "code",
   "execution_count": null,
   "id": "JOMa9cyc_ecm",
   "metadata": {
    "id": "JOMa9cyc_ecm"
   },
   "outputs": [],
   "source": [
    "GIT_TOKEN = \"\"\n",
    "if IN_COLAB:\n",
    "    !pip install -U pip setuptools wheel\n",
    "    if GIT_TOKEN:\n",
    "        !pip install git+https://{GIT_TOKEN}@github.com/ethanluoyc/sympais.git#egg=sympais\n",
    "    else:\n",
    "        !pip install git+https://github.com/ethanluoyc/sympais.git#egg=sympais\n"
   ]
  },
  {
   "cell_type": "code",
   "execution_count": null,
   "id": "vnJZQ3h__o7q",
   "metadata": {
    "colab": {
     "base_uri": "https://localhost:8080/"
    },
    "executionInfo": {
     "elapsed": 1928,
     "status": "ok",
     "timestamp": 1622133866038,
     "user": {
      "displayName": "Yicheng Luo",
      "photoUrl": "https://lh3.googleusercontent.com/a-/AOh14Ghsi29q6LEagIn9zJULHRFIoNQ8JnxNZdQGnJsyyg=s64",
      "userId": "00773862150143356368"
     },
     "user_tz": -60
    },
    "id": "vnJZQ3h__o7q",
    "outputId": "489c0111-bfad-4d49-f10a-2296adf8bd7a"
   },
   "outputs": [],
   "source": [
    "if IN_COLAB:\n",
    "    !curl -L \"https://drive.google.com/uc?export=download&id=1_Im0Ot5TjkzaWfid657AV_gyMpnPuVRa\" -o realpaver\n",
    "    !chmod u+x realpaver\n",
    "    !cp realpaver /usr/local/bin"
   ]
  },
  {
   "cell_type": "code",
   "execution_count": null,
   "id": "1339614e-3e4c-48c2-9be3-b3ba19f4807f",
   "metadata": {
    "id": "1339614e-3e4c-48c2-9be3-b3ba19f4807f"
   },
   "outputs": [],
   "source": [
    "import jax\n",
    "import jax.numpy as jnp\n",
    "\n",
    "from sympais import tasks\n",
    "import seaborn as sns\n",
    "import matplotlib.pyplot as plt\n",
    "import matplotlib\n",
    "import numpy as onp\n",
    "import math\n",
    "\n",
    "%load_ext autoreload\n",
    "%autoreload 2\n",
    "%matplotlib inline"
   ]
  },
  {
   "cell_type": "code",
   "execution_count": null,
   "id": "tNROaQ0hFoEZ",
   "metadata": {
    "id": "tNROaQ0hFoEZ"
   },
   "outputs": [],
   "source": [
    "# Configure z3\n",
    "import z3\n",
    "z3.set_option(\"smt.arith.random_initial_value\", True)\n",
    "z3.set_option(\"auto_config\", False)\n",
    "z3.set_option(\"smt.phase_selection\", 5)\n",
    "z3.set_option(\"smt.random_seed\", 42)"
   ]
  },
  {
   "cell_type": "markdown",
   "id": "9f8cf6db-de80-4e45-9505-e0cf02de3466",
   "metadata": {
    "id": "9f8cf6db-de80-4e45-9505-e0cf02de3466"
   },
   "source": [
    "## Implementation\n"
   ]
  },
  {
   "cell_type": "markdown",
   "id": "eEaQJstwJx29",
   "metadata": {
    "id": "eEaQJstwJx29"
   },
   "source": [
    "\n",
    "### SYMPAIS\n",
    "Here we show how to implement SYMPAIS from the different components described in the paper."
   ]
  },
  {
   "cell_type": "code",
   "execution_count": null,
   "id": "15c168fd-a6cd-4b63-9d95-1ac7d272e35e",
   "metadata": {
    "id": "15c168fd-a6cd-4b63-9d95-1ac7d272e35e"
   },
   "outputs": [],
   "source": [
    "from typing import Optional\n",
    "\n",
    "import jax\n",
    "import jax.numpy as jnp\n",
    "import numpy as onp\n",
    "\n",
    "from sympais import constraint\n",
    "from sympais import logger as logger_lib\n",
    "from sympais import tasks\n",
    "from sympais.infer import importance\n",
    "from sympais.infer import utils\n",
    "from sympais.initializer import Initializer\n",
    "from sympais.methods.importance import ProposalBuilder\n",
    "from sympais.methods.importance import RandomWalkMetropolisKernel\n",
    "from sympais.methods.importance import refine_domains\n",
    "from sympais.methods.importance import sample_chain\n",
    "from sympais.methods.importance import WindowedScaleAdaptor\n",
    "\n",
    "def run(task: tasks.Task,\n",
    "            seed: int,\n",
    "            num_samples: int = int(1e6),\n",
    "            num_proposals: int = 100,\n",
    "            num_samples_per_iter: int = 5,\n",
    "            proposal_scale_multiplier: float = 0.5,\n",
    "            rmh_scale: float = 1.0,\n",
    "            init: str = \"z3\",\n",
    "            tune: bool = True,\n",
    "            num_warmup_steps: int = 500,\n",
    "            window_size: int = 100,\n",
    "            resample: bool = True,\n",
    "            proposal_std_num_samples: int = 100,\n",
    "            logger: Optional[logger_lib.Logger] = None):\n",
    "  \"\"\"Run SYMPAIS.\n",
    "  Refer to the inline comments for a better idea of what this function\n",
    "  implements\n",
    "  \"\"\"\n",
    "  profile = task.profile\n",
    "  pcs = task.constraints\n",
    "  # Build callable for 1_PC(x)\n",
    "  constraint_fn = constraint.build_constraint_fn(pcs, task.domains)\n",
    "  # Build the unnormalized density \\bar{p}(x) = 1_PC(x) p(x)\n",
    "  target_log_prob_fn = constraint.build_target_log_prob_fn(\n",
    "      task.profile, task.domains, constraint_fn)\n",
    "  domains = task.domains\n",
    "  # Find a coarse approximation of the solution space.\n",
    "  # This is used both by the RMH kernel for making proposals and\n",
    "  # by the IS proposal for proposing from truncated distributions.\n",
    "  refined_domains = refine_domains(pcs, domains)\n",
    "\n",
    "  key = jax.random.PRNGKey(seed)\n",
    "  key, subkey = jax.random.split(key)\n",
    "  # The proposal builder is a callable that\n",
    "  # constructs importance sampling proposal distribution q(x)\n",
    "  # for performing MIS at every iteration of PIMAIS\n",
    "  proposal_builder = ProposalBuilder(profile, refined_domains,\n",
    "                                     proposal_scale_multiplier,\n",
    "                                     proposal_std_num_samples, subkey)\n",
    "  # The initializer finds initial feasible solution to bootstrap\n",
    "  # the MCMC chains\n",
    "  initializer_ = Initializer(profile, pcs, domains, init, resample)\n",
    "  initial_chain_state = initializer_(num_proposals, subkey)\n",
    "  # Construct a RMH transition kernel\n",
    "  kernel = RandomWalkMetropolisKernel(target_log_prob_fn,\n",
    "                                      jnp.ones(num_proposals) * rmh_scale,\n",
    "                                      refined_domains)\n",
    "  kernel.step = jax.jit(kernel.step)\n",
    "  key, subkey = jax.random.split(key)\n",
    "\n",
    "  # Initialize kernel parameters and run warmup\n",
    "  # and optional parameter adaptation\n",
    "  params = kernel.init()\n",
    "  key, subkey = jax.random.split(key)\n",
    "  if num_warmup_steps < 1:\n",
    "    print(\"Not running warmup\")\n",
    "    chain_state = initial_chain_state\n",
    "  else:\n",
    "    if tune:\n",
    "      print(\"Tuning the kernel\")\n",
    "      params, chain_state, _ = WindowedScaleAdaptor(kernel, window_size)(\n",
    "          subkey, params, initial_chain_state, num_warmup_steps)\n",
    "    else:\n",
    "      print(\"Not tuning the kernel\")\n",
    "      chain_state, (_, extra) = sample_chain(kernel, params, subkey,\n",
    "                                             initial_chain_state,\n",
    "                                             num_warmup_steps)\n",
    "    print(\"Finished warm-up\")\n",
    "  # Comput the number of iterations given total sampling budget\n",
    "  num_samples_warmup = num_proposals * num_warmup_steps\n",
    "  num_iterations = (\n",
    "      # 1) subtract the samples used during warmup\n",
    "      (num_samples - num_samples_warmup) //\n",
    "      # 2) For each PI-MAIS iteration, we sample from each mixture component\n",
    "      # `num_samples_per_iter` samples, plus an additional sample used by\n",
    "      # each chain for making a single step of transition\n",
    "      ((num_proposals + 1) * num_samples_per_iter))\n",
    "\n",
    "  # Initialize the state for running PI-MAIS.\n",
    "  state = importance.pimais_init(chain_state)\n",
    "\n",
    "  @jax.jit\n",
    "  def pimais_step_fn(params, rng, state):\n",
    "    kernel_fn = lambda key, state: kernel.step(params, key, state)\n",
    "    return importance.pimais_step(rng, target_log_prob_fn, kernel_fn,\n",
    "                                  proposal_builder, num_samples_per_iter, state)\n",
    "\n",
    "  # Start running the PI-MAIS iterations\n",
    "  rngs = jax.random.split(key, num_iterations)\n",
    "  states = []\n",
    "  extras = []\n",
    "  for idx in range(num_iterations):\n",
    "    # tic = time.time()\n",
    "    state, extra = pimais_step_fn(params, rngs[idx], state)\n",
    "    states.append(state)\n",
    "    extras.append(extra)\n",
    "    # Make sure async dispatch is accounted for in measuring running time.\n",
    "    utils.block_until_ready((state, extra))\n",
    "    # toc = time.time()\n",
    "    # print(\"Time elapsed\", toc - tic, \"Mean\", state.Ztot)\n",
    "  if logger is not None:\n",
    "    logger.write({\"mean\": state.Ztot})\n",
    "  print(\"Final estimated probability {}\".format(state.Ztot))\n",
    "  # Collect some intermediate results for post-processing and viz.\n",
    "  output = {\n",
    "      \"pimais_states\": jax.tree_multimap(lambda *x: jnp.stack(x, 0), *states),\n",
    "      \"pimais_extras\": jax.tree_multimap(lambda *x: jnp.stack(x, 0), *extras),\n",
    "      \"constraint_fn\": constraint_fn,\n",
    "      \"target_log_prob_fn\": target_log_prob_fn,\n",
    "      \"initial_chain_state\": initial_chain_state,\n",
    "      \"proposal_builder\": proposal_builder,\n",
    "      \"prob\": state.Ztot,\n",
    "  }\n",
    "  return output"
   ]
  },
  {
   "cell_type": "markdown",
   "id": "Deoc0T56HRQ3",
   "metadata": {
    "id": "Deoc0T56HRQ3"
   },
   "source": [
    "### Visualization\n",
    "Some helper functions for visualization"
   ]
  },
  {
   "cell_type": "code",
   "execution_count": null,
   "id": "231af29e-4b52-49fb-ab71-9b9b52f14c40",
   "metadata": {
    "id": "231af29e-4b52-49fb-ab71-9b9b52f14c40"
   },
   "outputs": [],
   "source": [
    "def _plot_proposals(axes, initial_proposal_state, proposal_states, proposal_fn):\n",
    "    for i, t in enumerate([0, 10, 100]):\n",
    "        if t == 0:\n",
    "            proposal_state = initial_proposal_state\n",
    "        else:\n",
    "            proposal_state = jax.tree_map(\n",
    "                lambda x: x[t - 1], proposal_states.proposal_state\n",
    "            )\n",
    "        proposal_dist = proposal_fn(proposal_state)\n",
    "        ax = axes[i]\n",
    "        plot_proposal_dist(ax, proposal_dist)\n",
    "        plot_proposal_state(ax, proposal_state)\n",
    "        _plot_torus_boundaries(ax)\n",
    "        ax.set_xlim(-5, 5)\n",
    "        ax.set_ylim(-5, 5)\n",
    "        ax.set(title=f\"$t = {t}$\")\n",
    "\n",
    "\n",
    "def _plot_torus_boundaries(ax):\n",
    "    inner_circle = plt.Circle(\n",
    "        (0, 0),\n",
    "        2,\n",
    "        fill=False,\n",
    "        linestyle=\"--\",\n",
    "        linewidth=.5,\n",
    "        edgecolor=\"black\",\n",
    "        label=\"inner\",\n",
    "    )\n",
    "    outer_circle = plt.Circle(\n",
    "        (0, 0), 4, fill=False, linestyle=\"--\", linewidth=.5, edgecolor=\"black\"\n",
    "    )\n",
    "    ax.add_artist(inner_circle)\n",
    "    ax.add_artist(outer_circle)\n",
    "\n",
    "\n",
    "def _fixup_axes(ax):\n",
    "    ax.set_xlim(-5, 5)\n",
    "    ax.set_ylim(-5, 5)\n",
    "    ax.set(xlabel=\"$x$\", ylabel=\"$y$\", title=\"$z = 0$\")\n",
    "\n",
    "\n",
    "def plot_proposal_dist(ax, proposal, resolution=100):\n",
    "    x = jnp.linspace(-5, 5, resolution)\n",
    "    y = jnp.linspace(-5, 5, resolution)\n",
    "    xx, yy = jnp.meshgrid(x, y)\n",
    "    logp = proposal.log_prob(\n",
    "        {\n",
    "            \"x\": xx.reshape(-1, 1),\n",
    "            \"y\": yy.reshape(-1, 1),\n",
    "            \"z\": jnp.zeros((resolution * resolution, 1)),\n",
    "        }\n",
    "    )\n",
    "    p = jnp.mean(jnp.exp(logp), -1).reshape((resolution, resolution))\n",
    "    ax.contourf(xx, yy, p, cmap=\"Blues\")\n",
    "\n",
    "\n",
    "def plot_proposal_state(ax, proposal_state, s=5, linewidth=0.5):\n",
    "    ax.scatter(\n",
    "        proposal_state[\"x\"],\n",
    "        proposal_state[\"y\"],\n",
    "        marker=\"o\",\n",
    "        c=\"white\",\n",
    "        edgecolors=\"black\",\n",
    "        linewidth=linewidth,\n",
    "        s=s,\n",
    "        alpha=0.75,\n",
    "    )"
   ]
  },
  {
   "cell_type": "code",
   "execution_count": null,
   "id": "2bda447b-a3ad-4511-ba60-0849b9ebe065",
   "metadata": {
    "colab": {
     "base_uri": "https://localhost:8080/"
    },
    "executionInfo": {
     "elapsed": 36081,
     "status": "ok",
     "timestamp": 1622122022460,
     "user": {
      "displayName": "Yicheng Luo",
      "photoUrl": "https://lh3.googleusercontent.com/a-/AOh14Ghsi29q6LEagIn9zJULHRFIoNQ8JnxNZdQGnJsyyg=s64",
      "userId": "00773862150143356368"
     },
     "user_tz": -60
    },
    "id": "2bda447b-a3ad-4511-ba60-0849b9ebe065",
    "outputId": "bcc6bab1-c1c8-45ab-8480-8dc6d9c04665"
   },
   "outputs": [],
   "source": [
    "output = run(\n",
    "    tasks.Torus(), \n",
    "    seed=0,\n",
    "    init=\"z3\", num_warmup_steps=0, \n",
    "    proposal_scale_multiplier=1.0\n",
    ")"
   ]
  },
  {
   "cell_type": "markdown",
   "id": "Ljy_M1y_Hcqq",
   "metadata": {
    "id": "Ljy_M1y_Hcqq"
   },
   "source": [
    "## Visualizing the input distribution and corresponding optimal proposal distribution"
   ]
  },
  {
   "cell_type": "code",
   "execution_count": null,
   "id": "3d58f4e6-be55-4da8-883a-632105655667",
   "metadata": {
    "colab": {
     "base_uri": "https://localhost:8080/",
     "height": 408
    },
    "executionInfo": {
     "elapsed": 701,
     "status": "ok",
     "timestamp": 1622123503086,
     "user": {
      "displayName": "Yicheng Luo",
      "photoUrl": "https://lh3.googleusercontent.com/a-/AOh14Ghsi29q6LEagIn9zJULHRFIoNQ8JnxNZdQGnJsyyg=s64",
      "userId": "00773862150143356368"
     },
     "user_tz": -60
    },
    "id": "3d58f4e6-be55-4da8-883a-632105655667",
    "outputId": "78946113-27bf-46b8-e813-8452492d3fc4"
   },
   "outputs": [],
   "source": [
    "task = tasks.Torus()\n",
    "constraint_fn = constraint.build_constraint_fn(task.constraints, task.domains)\n",
    "target_log_prob_fn = constraint.build_target_log_prob_fn(task.profile, task.domains,\n",
    "                                              constraint_fn)\n",
    "fig, ax = plt.subplots(2, 2, sharey=True)\n",
    "fig.set_size_inches(6, 6.)\n",
    "resolution = 100\n",
    "x = jnp.linspace(-5, 5, resolution)\n",
    "y = jnp.linspace(-5, 5, resolution)\n",
    "xx, yy = jnp.meshgrid(x, y)\n",
    "\n",
    "logp = (\n",
    "    task.profile.log_prob(\n",
    "        {\n",
    "            \"x\": xx.reshape(-1, 1),\n",
    "            \"y\": yy.reshape(-1, 1),\n",
    "            \"z\": jnp.zeros((resolution * resolution, 1)),\n",
    "        }\n",
    "    )\n",
    "    .reshape((resolution, resolution))\n",
    ")\n",
    "\n",
    "\n",
    "ax[0, 0].contourf(xx, yy, jnp.exp(logp), cmap=\"Blues\")\n",
    "_plot_torus_boundaries(ax[0, 0])\n",
    "_fixup_axes(ax[0, 0])\n",
    "\n",
    "logp_gt = target_log_prob_fn(\n",
    "    {\n",
    "        \"x\": xx.reshape(-1, 1),\n",
    "        \"y\": yy.reshape(-1, 1),\n",
    "        \"z\": jnp.zeros((resolution * resolution, 1)),\n",
    "    }\n",
    ")\n",
    "\n",
    "p_gt = jnp.exp(logp_gt).reshape((resolution, resolution))\n",
    "p_gt = onp.ma.masked_where(p_gt == 0.0, p_gt)\n",
    "\n",
    "ax[0, 1].contourf(xx, yy, p_gt, cmap=\"Blues\")\n",
    "_plot_torus_boundaries(ax[0, 1])\n",
    "_fixup_axes(ax[0, 1])\n",
    "for a in ax.flat:\n",
    "    a.set_aspect(1)\n",
    "ax[0, 1].set_ylabel(\"\")\n",
    "ax[0, 0].set_title(\"$p(x)$\")\n",
    "ax[0, 1].set_title(\"$q^*({x})$\")\n",
    "\n",
    "# task = tasks.torus(profile_type=\"correlated\")\n",
    "task = tasks.Torus(profile_type=\"correlated\")\n",
    "constraint_fn = constraint.build_constraint_fn(task.constraints, task.domains)\n",
    "target_log_prob_fn = constraint.build_target_log_prob_fn(\n",
    "    task.profile, task.domains, constraint_fn)\n",
    "\n",
    "logp = task.profile.log_prob(\n",
    "    {\n",
    "        \"x\": xx.reshape(-1, 1),\n",
    "        \"y\": yy.reshape(-1, 1),\n",
    "        \"z\": jnp.zeros((resolution * resolution, 1)),\n",
    "    }\n",
    ").reshape((resolution, resolution))\n",
    "\n",
    "ax[1, 0].contourf(xx, yy, jnp.exp(logp), cmap=\"Blues\")\n",
    "_plot_torus_boundaries(ax[1, 0])\n",
    "_fixup_axes(ax[1, 0])\n",
    "\n",
    "logp_gt = target_log_prob_fn(\n",
    "    {\n",
    "        \"x\": xx.reshape(-1, 1),\n",
    "        \"y\": yy.reshape(-1, 1),\n",
    "        \"z\": jnp.zeros((resolution * resolution, 1)),\n",
    "    }\n",
    ")\n",
    "p_gt = jnp.exp(logp_gt).reshape((resolution, resolution))\n",
    "p_gt = onp.ma.masked_where(p_gt == 0.0, p_gt)\n",
    "\n",
    "ax[1, 1].contourf(xx, yy, p_gt, cmap=\"Blues\")\n",
    "_plot_torus_boundaries(ax[1, 1])\n",
    "_fixup_axes(ax[1, 1])\n",
    "for a in ax.flat:\n",
    "    a.set_aspect(1)\n",
    "ax[1, 1].set_ylabel(\"\")\n",
    "ax[1, 1].set_title(\"\")\n",
    "ax[1, 0].set_title(\"\")\n",
    "ax[1,1].xaxis.set_major_locator(matplotlib.ticker.FixedLocator([-4, 0, 4]))\n",
    "ax[0,0].yaxis.set_major_locator(matplotlib.ticker.FixedLocator([-4, 0, 4]))\n",
    "ax[1,0].xaxis.set_major_locator(matplotlib.ticker.FixedLocator([-4, 0, 4]))\n",
    "ax[1,0].yaxis.set_major_locator(matplotlib.ticker.FixedLocator([-4, 0, 4]))\n",
    "for a in ax[0]:\n",
    "    a.xaxis.set_visible(False)"
   ]
  },
  {
   "cell_type": "markdown",
   "id": "5b6a01bf-cf9c-4bda-be34-4efdb8d31c79",
   "metadata": {
    "id": "5b6a01bf-cf9c-4bda-be34-4efdb8d31c79"
   },
   "source": [
    "## Example trajectory of SYMPAIS"
   ]
  },
  {
   "cell_type": "code",
   "execution_count": null,
   "id": "aa569ed8-9a68-4c5c-b2cf-a18e79f875f5",
   "metadata": {
    "colab": {
     "base_uri": "https://localhost:8080/"
    },
    "executionInfo": {
     "elapsed": 27634,
     "status": "ok",
     "timestamp": 1622123032320,
     "user": {
      "displayName": "Yicheng Luo",
      "photoUrl": "https://lh3.googleusercontent.com/a-/AOh14Ghsi29q6LEagIn9zJULHRFIoNQ8JnxNZdQGnJsyyg=s64",
      "userId": "00773862150143356368"
     },
     "user_tz": -60
    },
    "id": "aa569ed8-9a68-4c5c-b2cf-a18e79f875f5",
    "outputId": "22a5bae9-d8f4-4955-9a04-589c00080aad"
   },
   "outputs": [],
   "source": [
    "output = run(\n",
    "    tasks.Torus(), \n",
    "    seed=0,\n",
    "    init=\"z3\", \n",
    "    num_warmup_steps=0, \n",
    "    num_samples=int(1e5),\n",
    "    proposal_scale_multiplier=1.0)"
   ]
  },
  {
   "cell_type": "code",
   "execution_count": null,
   "id": "9df35381-0d04-43bb-a807-617598bcad49",
   "metadata": {
    "colab": {
     "base_uri": "https://localhost:8080/",
     "height": 286
    },
    "executionInfo": {
     "elapsed": 1429,
     "status": "ok",
     "timestamp": 1622124152680,
     "user": {
      "displayName": "Yicheng Luo",
      "photoUrl": "https://lh3.googleusercontent.com/a-/AOh14Ghsi29q6LEagIn9zJULHRFIoNQ8JnxNZdQGnJsyyg=s64",
      "userId": "00773862150143356368"
     },
     "user_tz": -60
    },
    "id": "9df35381-0d04-43bb-a807-617598bcad49",
    "outputId": "7cb4c3bd-580e-4690-c471-b5a03cee03e6"
   },
   "outputs": [],
   "source": [
    "def plot_trajectory(output):\n",
    "    fig, axes = plt.subplots(1, 4, \n",
    "                            figsize=matplotlib.figure.figaspect(0.25),\n",
    "                            sharey=True)\n",
    "    for i, t in enumerate([0, 10, 100, 1000]):\n",
    "        if t == 0:\n",
    "            proposal_state = output[\"initial_chain_state\"]\n",
    "        else:\n",
    "            proposal_state = jax.tree_map(\n",
    "                lambda x: x[t - 1], output[\"pimais_states\"].proposal_state\n",
    "            )\n",
    "        proposal_dist = output['proposal_builder'](proposal_state)\n",
    "        ax = axes.flat[i]\n",
    "        plot_proposal_dist(ax, proposal_dist)\n",
    "        # plot_proposal_state(ax, proposal_state)\n",
    "        ax.scatter(\n",
    "                proposal_state['x'],\n",
    "                proposal_state['y'],\n",
    "                marker=\"o\",\n",
    "                c=\"white\",\n",
    "                edgecolors=\"black\",\n",
    "                alpha=0.75,\n",
    "        )\n",
    "        _plot_torus_boundaries(ax)\n",
    "        if t > 0:\n",
    "            ax.plot(\n",
    "                output[\"pimais_states\"].proposal_state[\"x\"][:t, 0],\n",
    "                output[\"pimais_states\"].proposal_state[\"y\"][:t, 0],\n",
    "                color=\"#F2528D\",\n",
    "                linestyle=\"dashed\",\n",
    "                alpha=0.75,\n",
    "                linewidth=2,\n",
    "            )\n",
    "        ax.set_xlim(-5, 5)\n",
    "        ax.set_ylim(-5, 5)\n",
    "        ax.set(title=f\"$t = {t}$\")\n",
    "\n",
    "    for ax in axes.flat:\n",
    "        ax.set_aspect(1)\n",
    "        ax.set_xlabel(\"$x$\")\n",
    "        ax.xaxis.set_major_locator(matplotlib.ticker.FixedLocator([-5, 0, 5]))\n",
    "        ax.yaxis.set_major_locator(matplotlib.ticker.FixedLocator([-5, 0, 5]))\n",
    "    # =\"#F27781\",\n",
    "    # for a in axes[0]:\n",
    "    #     a.set_xticks([])\n",
    "    #     a.set_xlabel(\"\")\n",
    "    axes[0].set(ylabel=\"$y$\")\n",
    "    # axes[1,0].set(ylabel=\"$y$\")\n",
    "    plt.subplots_adjust(left=.2, hspace=.3, top=.9, bottom=.15, right=.95)\n",
    "plot_trajectory(output)"
   ]
  },
  {
   "cell_type": "markdown",
   "id": "ee6e0810-92d1-4004-b3fd-aad6be8e84f6",
   "metadata": {
    "id": "ee6e0810-92d1-4004-b3fd-aad6be8e84f6"
   },
   "source": [
    "### Interactive visualization of the SYMPAIS trajectory\n",
    "\n",
    "We also wrote a interactive widget to visualize the SYMPAIS trajectory."
   ]
  },
  {
   "cell_type": "code",
   "execution_count": null,
   "id": "f63aa93a-ae13-4064-bfd6-9391d7972e0c",
   "metadata": {
    "id": "f63aa93a-ae13-4064-bfd6-9391d7972e0c"
   },
   "outputs": [],
   "source": [
    "from ipywidgets import widgets"
   ]
  },
  {
   "cell_type": "code",
   "execution_count": null,
   "id": "ac628d40-07d2-4a61-b801-5fe0251eeaa8",
   "metadata": {
    "id": "ac628d40-07d2-4a61-b801-5fe0251eeaa8"
   },
   "outputs": [],
   "source": [
    "def make_interactive_plot(output):\n",
    "    @widgets.interact(\n",
    "        T=(0, output[\"pimais_states\"].proposal_state['x'].shape[0], 1)\n",
    "    )\n",
    "    def update(T):\n",
    "        fig, ax = plt.subplots(figsize=(4,4))\n",
    "        inner_circle = plt.Circle(\n",
    "            (0, 0),\n",
    "            2,\n",
    "            fill=False,\n",
    "            linestyle=\"--\",\n",
    "            linewidth=1,\n",
    "            edgecolor=\"black\",\n",
    "            label=\"inner\",\n",
    "        )\n",
    "        outer_circle = plt.Circle(\n",
    "            (0, 0), 4, fill=False, \n",
    "            linestyle=\"--\", linewidth=1, edgecolor=\"black\"\n",
    "        )\n",
    "        ax.add_artist(inner_circle)\n",
    "        ax.add_artist(outer_circle)\n",
    "        ax.set_xlim(-5, 5)\n",
    "        ax.set_ylim(-5, 5)\n",
    "        ax.set(xlabel=\"$x$\", ylabel=\"$y$\", title=\"$z = 0$\")\n",
    "        \n",
    "        if T == 0:\n",
    "            proposal_state = output['initial_chain_state']\n",
    "        else:\n",
    "            proposal_state = jax.tree_map(\n",
    "                lambda x: x[T - 1], output[\"pimais_states\"].proposal_state\n",
    "            )\n",
    "        proposal_dist = output['proposal_builder'](proposal_state)\n",
    "        plot_proposal_dist(ax, proposal_dist)\n",
    "        ax.scatter(\n",
    "            proposal_state['x'],\n",
    "            proposal_state['y'],\n",
    "            marker=\"o\",\n",
    "            c=\"white\",\n",
    "            edgecolors=\"black\",\n",
    "            alpha=0.75,\n",
    "        )\n",
    "        plt.show()\n",
    "    return update"
   ]
  },
  {
   "cell_type": "code",
   "execution_count": null,
   "id": "7b482667-8846-4419-9d8c-58f1004eaf8d",
   "metadata": {
    "colab": {
     "base_uri": "https://localhost:8080/",
     "height": 327,
     "referenced_widgets": [
      "416e24190e93423e8733ebda2388629e",
      "d3a6df14d274405e870971ebe1f1ff79",
      "26cdf918ff204bbeb3ae7549302e15dd",
      "2334809b272f47229559fdfd0199dc6f",
      "e65f9cca05df4f94b6aa8f45bf51a192",
      "4d24bc904e244f34bc1d17d5cd1a10bd",
      "5481bbb57aff4e679667efe0b69fb476"
     ]
    },
    "executionInfo": {
     "elapsed": 365,
     "status": "ok",
     "timestamp": 1622124518211,
     "user": {
      "displayName": "Yicheng Luo",
      "photoUrl": "https://lh3.googleusercontent.com/a-/AOh14Ghsi29q6LEagIn9zJULHRFIoNQ8JnxNZdQGnJsyyg=s64",
      "userId": "00773862150143356368"
     },
     "user_tz": -60
    },
    "id": "7b482667-8846-4419-9d8c-58f1004eaf8d",
    "outputId": "5ebb54e8-a296-4c20-92ed-5bc7e8ecd47f"
   },
   "outputs": [],
   "source": [
    "make_interactive_plot(output);"
   ]
  },
  {
   "cell_type": "markdown",
   "id": "f0696a22-da29-43d4-a19e-62be11d5079d",
   "metadata": {
    "id": "f0696a22-da29-43d4-a19e-62be11d5079d"
   },
   "source": [
    "## Effect of Initialization\n",
    "\n",
    "In this section, we compare the different initialization settings, which is described in our \n",
    "optimization section."
   ]
  },
  {
   "cell_type": "code",
   "execution_count": null,
   "id": "9c4731da-a397-41d5-ac47-c08ae2b1918d",
   "metadata": {
    "colab": {
     "base_uri": "https://localhost:8080/"
    },
    "executionInfo": {
     "elapsed": 66777,
     "status": "ok",
     "timestamp": 1622122282674,
     "user": {
      "displayName": "Yicheng Luo",
      "photoUrl": "https://lh3.googleusercontent.com/a-/AOh14Ghsi29q6LEagIn9zJULHRFIoNQ8JnxNZdQGnJsyyg=s64",
      "userId": "00773862150143356368"
     },
     "user_tz": -60
    },
    "id": "9c4731da-a397-41d5-ac47-c08ae2b1918d",
    "outputId": "69e805ee-782d-4991-b2ed-e554c61e40e6"
   },
   "outputs": [],
   "source": [
    "task = tasks.Torus(profile_type=\"correlated\")\n",
    "num_warmup_steps = 0\n",
    "num_samples = int(1e5)\n",
    "seed = 0\n",
    "\n",
    "z3_init_output = run(task, \n",
    "                     seed=seed,\n",
    "                     num_samples=num_samples, \n",
    "                     init='z3', \n",
    "                     num_warmup_steps=num_warmup_steps)\n",
    "rp_init_output = run(task, \n",
    "                     seed=seed,\n",
    "                     num_samples=num_samples, \n",
    "                     init='realpaver', \n",
    "                     num_warmup_steps=num_warmup_steps, \n",
    "                     resample=False)\n",
    "rp_resample_output = run(task, \n",
    "                         seed=seed,\n",
    "                         num_samples=num_samples, \n",
    "                         init='realpaver', \n",
    "                         num_warmup_steps=num_warmup_steps,\n",
    "                         resample=True)"
   ]
  },
  {
   "cell_type": "code",
   "execution_count": null,
   "id": "e5cbe8eb-3636-4d4f-803b-b20d9cd02b17",
   "metadata": {
    "colab": {
     "base_uri": "https://localhost:8080/",
     "height": 393
    },
    "executionInfo": {
     "elapsed": 1626,
     "status": "ok",
     "timestamp": 1622124558093,
     "user": {
      "displayName": "Yicheng Luo",
      "photoUrl": "https://lh3.googleusercontent.com/a-/AOh14Ghsi29q6LEagIn9zJULHRFIoNQ8JnxNZdQGnJsyyg=s64",
      "userId": "00773862150143356368"
     },
     "user_tz": -60
    },
    "id": "e5cbe8eb-3636-4d4f-803b-b20d9cd02b17",
    "outputId": "30e206b4-5ca2-438a-8f7a-14fd26ae972e"
   },
   "outputs": [],
   "source": [
    "fig, axes = plt.subplots(3, 3, sharey=True)\n",
    "fig.set_size_inches(6, 6)\n",
    "\n",
    "for ax, o in zip(axes, (z3_init_output, rp_init_output, rp_resample_output)):\n",
    "    _plot_proposals(\n",
    "        ax,\n",
    "        o[\"initial_chain_state\"],\n",
    "        o[\"pimais_states\"],\n",
    "        o['proposal_builder']\n",
    "    )\n",
    "for ax in axes[1:, :].flat:\n",
    "    ax.set(title=\"\")\n",
    "    \n",
    "for ax in axes[2:, :].flat:\n",
    "    ax.set(xlabel=\"$x$\")\n",
    "    ax.set(title=\"\")\n",
    "\n",
    "axes[0, 0].set_ylabel(\"Single Solution \\n $ y $\")\n",
    "axes[1, 0].set_ylabel(\"Diverse Solution \\n $ y $\")\n",
    "axes[2, 0].set_ylabel(\"Re-sample \\n $ y $\")\n",
    "\n",
    "# for ax in axes.flat:\n",
    "#     ax.set_aspect(1.0)\n",
    "plt.setp(axes, aspect=1.0)\n",
    "for ax in axes[0:2].flat:\n",
    "    ax.xaxis.set_major_locator(plt.NullLocator())\n",
    "    ax.yaxis.set_major_locator(plt.NullLocator())\n",
    "plt.subplots_adjust(left=0.2, bottom=0.15, right=0.975, wspace=0.05)\n",
    "# fig.savefig(\"images/pimais_init.pdf\")"
   ]
  }
 ],
 "metadata": {
  "colab": {
   "collapsed_sections": [],
   "name": "torus_demo.ipynb",
   "provenance": [
    {
     "file_id": "https://github.com/ethanluoyc/sympais/blob/master/notebooks/torus_demo.ipynb",
     "timestamp": 1622121719516
    }
   ],
   "toc_visible": true
  },
  "kernelspec": {
   "display_name": "Python 3",
   "language": "python",
   "name": "python3"
  },
  "language_info": {
   "codemirror_mode": {
    "name": "ipython",
    "version": 3
   },
   "file_extension": ".py",
   "mimetype": "text/x-python",
   "name": "python",
   "nbconvert_exporter": "python",
   "pygments_lexer": "ipython3",
   "version": "3.8.3"
  },
  "widgets": {
   "application/vnd.jupyter.widget-state+json": {
    "2334809b272f47229559fdfd0199dc6f": {
     "model_module": "@jupyter-widgets/output",
     "model_name": "OutputModel",
     "state": {
      "_dom_classes": [],
      "_model_module": "@jupyter-widgets/output",
      "_model_module_version": "1.0.0",
      "_model_name": "OutputModel",
      "_view_count": null,
      "_view_module": "@jupyter-widgets/output",
      "_view_module_version": "1.0.0",
      "_view_name": "OutputView",
      "layout": "IPY_MODEL_5481bbb57aff4e679667efe0b69fb476",
      "msg_id": "",
      "outputs": [
       {
        "image/png": "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\n",
        "metadata": {
         "needs_background": "light",
         "tags": []
        },
        "output_type": "display_data",
        "text/plain": "<Figure size 288x288 with 1 Axes>"
       }
      ]
     }
    },
    "26cdf918ff204bbeb3ae7549302e15dd": {
     "model_module": "@jupyter-widgets/controls",
     "model_name": "IntSliderModel",
     "state": {
      "_dom_classes": [],
      "_model_module": "@jupyter-widgets/controls",
      "_model_module_version": "1.5.0",
      "_model_name": "IntSliderModel",
      "_view_count": null,
      "_view_module": "@jupyter-widgets/controls",
      "_view_module_version": "1.5.0",
      "_view_name": "IntSliderView",
      "continuous_update": true,
      "description": "T",
      "description_tooltip": null,
      "disabled": false,
      "layout": "IPY_MODEL_4d24bc904e244f34bc1d17d5cd1a10bd",
      "max": 198,
      "min": 0,
      "orientation": "horizontal",
      "readout": true,
      "readout_format": "d",
      "step": 1,
      "style": "IPY_MODEL_e65f9cca05df4f94b6aa8f45bf51a192",
      "value": 83
     }
    },
    "416e24190e93423e8733ebda2388629e": {
     "model_module": "@jupyter-widgets/controls",
     "model_name": "VBoxModel",
     "state": {
      "_dom_classes": [
       "widget-interact"
      ],
      "_model_module": "@jupyter-widgets/controls",
      "_model_module_version": "1.5.0",
      "_model_name": "VBoxModel",
      "_view_count": null,
      "_view_module": "@jupyter-widgets/controls",
      "_view_module_version": "1.5.0",
      "_view_name": "VBoxView",
      "box_style": "",
      "children": [
       "IPY_MODEL_26cdf918ff204bbeb3ae7549302e15dd",
       "IPY_MODEL_2334809b272f47229559fdfd0199dc6f"
      ],
      "layout": "IPY_MODEL_d3a6df14d274405e870971ebe1f1ff79"
     }
    },
    "4d24bc904e244f34bc1d17d5cd1a10bd": {
     "model_module": "@jupyter-widgets/base",
     "model_name": "LayoutModel",
     "state": {
      "_model_module": "@jupyter-widgets/base",
      "_model_module_version": "1.2.0",
      "_model_name": "LayoutModel",
      "_view_count": null,
      "_view_module": "@jupyter-widgets/base",
      "_view_module_version": "1.2.0",
      "_view_name": "LayoutView",
      "align_content": null,
      "align_items": null,
      "align_self": null,
      "border": null,
      "bottom": null,
      "display": null,
      "flex": null,
      "flex_flow": null,
      "grid_area": null,
      "grid_auto_columns": null,
      "grid_auto_flow": null,
      "grid_auto_rows": null,
      "grid_column": null,
      "grid_gap": null,
      "grid_row": null,
      "grid_template_areas": null,
      "grid_template_columns": null,
      "grid_template_rows": null,
      "height": null,
      "justify_content": null,
      "justify_items": null,
      "left": null,
      "margin": null,
      "max_height": null,
      "max_width": null,
      "min_height": null,
      "min_width": null,
      "object_fit": null,
      "object_position": null,
      "order": null,
      "overflow": null,
      "overflow_x": null,
      "overflow_y": null,
      "padding": null,
      "right": null,
      "top": null,
      "visibility": null,
      "width": null
     }
    },
    "5481bbb57aff4e679667efe0b69fb476": {
     "model_module": "@jupyter-widgets/base",
     "model_name": "LayoutModel",
     "state": {
      "_model_module": "@jupyter-widgets/base",
      "_model_module_version": "1.2.0",
      "_model_name": "LayoutModel",
      "_view_count": null,
      "_view_module": "@jupyter-widgets/base",
      "_view_module_version": "1.2.0",
      "_view_name": "LayoutView",
      "align_content": null,
      "align_items": null,
      "align_self": null,
      "border": null,
      "bottom": null,
      "display": null,
      "flex": null,
      "flex_flow": null,
      "grid_area": null,
      "grid_auto_columns": null,
      "grid_auto_flow": null,
      "grid_auto_rows": null,
      "grid_column": null,
      "grid_gap": null,
      "grid_row": null,
      "grid_template_areas": null,
      "grid_template_columns": null,
      "grid_template_rows": null,
      "height": null,
      "justify_content": null,
      "justify_items": null,
      "left": null,
      "margin": null,
      "max_height": null,
      "max_width": null,
      "min_height": null,
      "min_width": null,
      "object_fit": null,
      "object_position": null,
      "order": null,
      "overflow": null,
      "overflow_x": null,
      "overflow_y": null,
      "padding": null,
      "right": null,
      "top": null,
      "visibility": null,
      "width": null
     }
    },
    "d3a6df14d274405e870971ebe1f1ff79": {
     "model_module": "@jupyter-widgets/base",
     "model_name": "LayoutModel",
     "state": {
      "_model_module": "@jupyter-widgets/base",
      "_model_module_version": "1.2.0",
      "_model_name": "LayoutModel",
      "_view_count": null,
      "_view_module": "@jupyter-widgets/base",
      "_view_module_version": "1.2.0",
      "_view_name": "LayoutView",
      "align_content": null,
      "align_items": null,
      "align_self": null,
      "border": null,
      "bottom": null,
      "display": null,
      "flex": null,
      "flex_flow": null,
      "grid_area": null,
      "grid_auto_columns": null,
      "grid_auto_flow": null,
      "grid_auto_rows": null,
      "grid_column": null,
      "grid_gap": null,
      "grid_row": null,
      "grid_template_areas": null,
      "grid_template_columns": null,
      "grid_template_rows": null,
      "height": null,
      "justify_content": null,
      "justify_items": null,
      "left": null,
      "margin": null,
      "max_height": null,
      "max_width": null,
      "min_height": null,
      "min_width": null,
      "object_fit": null,
      "object_position": null,
      "order": null,
      "overflow": null,
      "overflow_x": null,
      "overflow_y": null,
      "padding": null,
      "right": null,
      "top": null,
      "visibility": null,
      "width": null
     }
    },
    "e65f9cca05df4f94b6aa8f45bf51a192": {
     "model_module": "@jupyter-widgets/controls",
     "model_name": "SliderStyleModel",
     "state": {
      "_model_module": "@jupyter-widgets/controls",
      "_model_module_version": "1.5.0",
      "_model_name": "SliderStyleModel",
      "_view_count": null,
      "_view_module": "@jupyter-widgets/base",
      "_view_module_version": "1.2.0",
      "_view_name": "StyleView",
      "description_width": "",
      "handle_color": null
     }
    }
   }
  }
 },
 "nbformat": 4,
 "nbformat_minor": 5
}
