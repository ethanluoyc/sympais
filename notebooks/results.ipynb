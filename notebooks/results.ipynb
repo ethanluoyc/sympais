{
 "cells": [
  {
   "cell_type": "markdown",
   "id": "4d6687a5-2a18-46bb-9b97-4783bde9efff",
   "metadata": {
    "id": "4d6687a5-2a18-46bb-9b97-4783bde9efff"
   },
   "source": [
    "# Result Sets for ESEC/FSE 2021\n",
    "\n",
    "[![Open In Colab](https://colab.research.google.com/assets/colab-badge.svg)](https://colab.research.google.com/github/ethanluoyc/sympais/blob/master/notebooks/results.ipynb)\n",
    "\n",
    "This notebooks is used to plot the key figures in the paper."
   ]
  },
  {
   "cell_type": "markdown",
   "id": "30fb0b2d-4daa-4e38-aa65-62dfe4bbd511",
   "metadata": {
    "id": "30fb0b2d-4daa-4e38-aa65-62dfe4bbd511"
   },
   "source": [
    "## Setup"
   ]
  },
  {
   "cell_type": "code",
   "execution_count": null,
   "id": "fPg_yELluZqr",
   "metadata": {
    "executionInfo": {
     "elapsed": 294,
     "status": "ok",
     "timestamp": 1622135977460,
     "user": {
      "displayName": "Yicheng Luo",
      "photoUrl": "https://lh3.googleusercontent.com/a-/AOh14Ghsi29q6LEagIn9zJULHRFIoNQ8JnxNZdQGnJsyyg=s64",
      "userId": "00773862150143356368"
     },
     "user_tz": -60
    },
    "id": "fPg_yELluZqr"
   },
   "outputs": [],
   "source": [
    "try:\n",
    "  import google.colab\n",
    "  IN_COLAB = True\n",
    "except:\n",
    "  IN_COLAB = False"
   ]
  },
  {
   "cell_type": "code",
   "execution_count": null,
   "id": "HDQDPFfE2P37",
   "metadata": {
    "id": "HDQDPFfE2P37"
   },
   "outputs": [],
   "source": [
    "GIT_TOKEN = \"\"\n",
    "if IN_COLAB:\n",
    "    !pip install -U pip setuptools wheel\n",
    "    if GIT_TOKEN:\n",
    "        !pip install git+https://{GIT_TOKEN}@github.com/ethanluoyc/sympais.git#egg=sympais\n",
    "    else:\n",
    "        !pip install git+https://github.com/ethanluoyc/sympais.git#egg=sympais\n",
    "\n",
    "if IN_COLAB:\n",
    "    !curl -L \"https://drive.google.com/uc?export=download&id=1_Im0Ot5TjkzaWfid657AV_gyMpnPuVRa\" -o realpaver\n",
    "    !chmod u+x realpaver\n",
    "    !cp realpaver /usr/local/bin"
   ]
  },
  {
   "cell_type": "markdown",
   "id": "e2865ca4-8bcc-488b-8192-389dd378c517",
   "metadata": {
    "id": "e2865ca4-8bcc-488b-8192-389dd378c517"
   },
   "source": [
    "### Imports"
   ]
  },
  {
   "cell_type": "code",
   "execution_count": null,
   "id": "c0ce338e-06c3-4be5-93e9-f2556fbe43f6",
   "metadata": {
    "executionInfo": {
     "elapsed": 542,
     "status": "ok",
     "timestamp": 1622135977999,
     "user": {
      "displayName": "Yicheng Luo",
      "photoUrl": "https://lh3.googleusercontent.com/a-/AOh14Ghsi29q6LEagIn9zJULHRFIoNQ8JnxNZdQGnJsyyg=s64",
      "userId": "00773862150143356368"
     },
     "user_tz": -60
    },
    "id": "c0ce338e-06c3-4be5-93e9-f2556fbe43f6"
   },
   "outputs": [],
   "source": [
    "import collections\n",
    "import numpy as np\n",
    "import itertools\n",
    "import matplotlib\n",
    "import matplotlib.pyplot as plt\n",
    "import math\n",
    "import pandas as pd\n",
    "import os\n",
    "import seaborn as sns\n",
    "\n",
    "%load_ext autoreload\n",
    "%autoreload 2"
   ]
  },
  {
   "cell_type": "markdown",
   "id": "88df2e4b-96e9-45c3-bc06-84b24f0b8108",
   "metadata": {
    "id": "88df2e4b-96e9-45c3-bc06-84b24f0b8108"
   },
   "source": [
    "### Set up constants"
   ]
  },
  {
   "cell_type": "code",
   "execution_count": null,
   "id": "X4W9qqr3uWwK",
   "metadata": {
    "colab": {
     "base_uri": "https://localhost:8080/"
    },
    "executionInfo": {
     "elapsed": 30438,
     "status": "ok",
     "timestamp": 1622137266623,
     "user": {
      "displayName": "Yicheng Luo",
      "photoUrl": "https://lh3.googleusercontent.com/a-/AOh14Ghsi29q6LEagIn9zJULHRFIoNQ8JnxNZdQGnJsyyg=s64",
      "userId": "00773862150143356368"
     },
     "user_tz": -60
    },
    "id": "X4W9qqr3uWwK",
    "outputId": "13282f46-7658-419a-9b72-cc0f159ad945"
   },
   "outputs": [],
   "source": [
    "!curl -L \"https://drive.google.com/uc?export=download&id=1GDl8ZbbKNb43Y-jK7GLdByfWRjfHJt3L\" -o results.tar.gz"
   ]
  },
  {
   "cell_type": "code",
   "execution_count": null,
   "id": "4UE-1q63vl9v",
   "metadata": {
    "colab": {
     "base_uri": "https://localhost:8080/"
    },
    "executionInfo": {
     "elapsed": 3802,
     "status": "ok",
     "timestamp": 1622137304572,
     "user": {
      "displayName": "Yicheng Luo",
      "photoUrl": "https://lh3.googleusercontent.com/a-/AOh14Ghsi29q6LEagIn9zJULHRFIoNQ8JnxNZdQGnJsyyg=s64",
      "userId": "00773862150143356368"
     },
     "user_tz": -60
    },
    "id": "4UE-1q63vl9v",
    "outputId": "77740e72-6dcc-4b8b-f182-b88dda61f809"
   },
   "outputs": [],
   "source": [
    "!tar xvzf results.tar.gz"
   ]
  },
  {
   "cell_type": "code",
   "execution_count": null,
   "id": "95513b2b-d336-4400-9ef1-eb9c4d827f9a",
   "metadata": {
    "executionInfo": {
     "elapsed": 169,
     "status": "ok",
     "timestamp": 1622137311662,
     "user": {
      "displayName": "Yicheng Luo",
      "photoUrl": "https://lh3.googleusercontent.com/a-/AOh14Ghsi29q6LEagIn9zJULHRFIoNQ8JnxNZdQGnJsyyg=s64",
      "userId": "00773862150143356368"
     },
     "user_tz": -60
    },
    "id": "95513b2b-d336-4400-9ef1-eb9c4d827f9a"
   },
   "outputs": [],
   "source": [
    "sns.set_palette(\"deep\")\n",
    "PALETTE = {\"DMC\": 'C0', \"qCoral\": \"C1\", \"SYMPAIS\": \"C2\", \"SYMPAIS-H\": \"C3\"}"
   ]
  },
  {
   "cell_type": "code",
   "execution_count": null,
   "id": "f1be4853-fcc2-483a-beb0-b99ca4d5e800",
   "metadata": {
    "executionInfo": {
     "elapsed": 3,
     "status": "ok",
     "timestamp": 1622137317652,
     "user": {
      "displayName": "Yicheng Luo",
      "photoUrl": "https://lh3.googleusercontent.com/a-/AOh14Ghsi29q6LEagIn9zJULHRFIoNQ8JnxNZdQGnJsyyg=s64",
      "userId": "00773862150143356368"
     },
     "user_tz": -60
    },
    "id": "f1be4853-fcc2-483a-beb0-b99ca4d5e800"
   },
   "outputs": [],
   "source": [
    "RESULT_PATH = './results'"
   ]
  },
  {
   "cell_type": "markdown",
   "id": "6306e220-cc6a-4a26-bcd2-4ba2c7fe20e8",
   "metadata": {
    "id": "6306e220-cc6a-4a26-bcd2-4ba2c7fe20e8"
   },
   "source": [
    "### Helper functions"
   ]
  },
  {
   "cell_type": "code",
   "execution_count": null,
   "id": "617ba981-59f2-413f-ac13-dbe6002baf33",
   "metadata": {
    "executionInfo": {
     "elapsed": 2,
     "status": "ok",
     "timestamp": 1622137318418,
     "user": {
      "displayName": "Yicheng Luo",
      "photoUrl": "https://lh3.googleusercontent.com/a-/AOh14Ghsi29q6LEagIn9zJULHRFIoNQ8JnxNZdQGnJsyyg=s64",
      "userId": "00773862150143356368"
     },
     "user_tz": -60
    },
    "id": "617ba981-59f2-413f-ac13-dbe6002baf33"
   },
   "outputs": [],
   "source": [
    "def read_experiment(log_path,\n",
    "                    parameter_set=None,\n",
    "                    job_descriptor='',\n",
    "                    verbose=False):\n",
    "    \"\"\"\"Helper function for reading logs from multiple runs.\"\"\"\n",
    "    keys = [] if parameter_set is None else list(parameter_set.keys())\n",
    "    # Extract parameter value lists, one per parameter.\n",
    "    ordered_values = [parameter_set[key] for key in keys]\n",
    "    num_parameter_settings = len([_ for _ in itertools.product(*ordered_values)])\n",
    "\n",
    "    # Now take their cross product. This generates tuples of the form\n",
    "    # (p1, p2, p3, ...) where p1, p2, p3 are parameter values for the first,\n",
    "    # second, etc. parameters as ordered in value_set.\n",
    "    dfs = []\n",
    "    for parameter_tuple in itertools.product(*ordered_values):\n",
    "        if job_descriptor is not None:\n",
    "            name = job_descriptor.format(*parameter_tuple)\n",
    "        else:\n",
    "            # Construct name for values.\n",
    "            name = '-'.join([keys[i] + '_' + str(parameter_tuple[i])\n",
    "                            for i in range(len(keys))])\n",
    "\n",
    "        experiment_path = '{}/{}/results.jsonl'.format(log_path, name)\n",
    "        if verbose:\n",
    "            print(experiment_path)\n",
    "        df = pd.read_json(experiment_path, lines=True)\n",
    "        for i in range(len(keys)):\n",
    "            df[keys[i]] = parameter_tuple[i]\n",
    "        dfs.append(df)\n",
    "    return pd.concat(dfs)\n",
    "    \n",
    "def relative_absolute_error(data, reference):\n",
    "    \"\"\"Compute the relative absolute error with respect to a refernce point.\"\"\"\n",
    "    return np.abs(data - reference) / reference"
   ]
  },
  {
   "cell_type": "code",
   "execution_count": null,
   "id": "3784dae2-247c-4590-a79e-752c6a4746f7",
   "metadata": {
    "executionInfo": {
     "elapsed": 2,
     "status": "ok",
     "timestamp": 1622137319435,
     "user": {
      "displayName": "Yicheng Luo",
      "photoUrl": "https://lh3.googleusercontent.com/a-/AOh14Ghsi29q6LEagIn9zJULHRFIoNQ8JnxNZdQGnJsyyg=s64",
      "userId": "00773862150143356368"
     },
     "user_tz": -60
    },
    "id": "3784dae2-247c-4590-a79e-752c6a4746f7"
   },
   "outputs": [],
   "source": [
    "def rename_method(df, key='method'):\n",
    "    df = df.copy()\n",
    "    df[key] = df[key].str.replace(r'^dmc', 'DMC', regex=True)\n",
    "    df[key] = df[key].str.replace(r'^pimais', 'SYMPAIS', regex=True)\n",
    "    df[key] = df[key].str.replace(r'^hpimais', 'SYMPAIS-H', regex=True)\n",
    "    df[key] = df[key].str.replace(r'^stratified', 'qCoral', regex=True)\n",
    "    return df"
   ]
  },
  {
   "cell_type": "markdown",
   "id": "2e89407a-fe05-4847-a438-4cdc184d45bf",
   "metadata": {
    "id": "2e89407a-fe05-4847-a438-4cdc184d45bf"
   },
   "source": [
    "## Sphere\n",
    "This section shows the results for the sphere benchmark."
   ]
  },
  {
   "cell_type": "markdown",
   "id": "3b7d2fc4-ad5b-4979-865b-f847583ad466",
   "metadata": {
    "id": "3b7d2fc4-ad5b-4979-865b-f847583ad466"
   },
   "source": [
    "### Compute reference solution"
   ]
  },
  {
   "cell_type": "code",
   "execution_count": null,
   "id": "dabd466b-8c85-41ff-8944-78d2fb78f636",
   "metadata": {
    "colab": {
     "base_uri": "https://localhost:8080/",
     "height": 328
    },
    "executionInfo": {
     "elapsed": 1073,
     "status": "ok",
     "timestamp": 1622137328324,
     "user": {
      "displayName": "Yicheng Luo",
      "photoUrl": "https://lh3.googleusercontent.com/a-/AOh14Ghsi29q6LEagIn9zJULHRFIoNQ8JnxNZdQGnJsyyg=s64",
      "userId": "00773862150143356368"
     },
     "user_tz": -60
    },
    "id": "dabd466b-8c85-41ff-8944-78d2fb78f636",
    "outputId": "08a10eaa-1f78-432f-b05c-85ad671fccca"
   },
   "outputs": [],
   "source": [
    "sphere_reference_result = (read_experiment(\n",
    "    RESULT_PATH, \n",
    "    collections.OrderedDict([\n",
    "        (\"method\", [\"dmc\"]),\n",
    "        (\"num_samples\", [int(1e8)]),\n",
    "        (\"d\", np.arange(3, 11)),\n",
    "        (\"seed\", np.arange(20)),\n",
    "    ]), \n",
    "    \"sphere/{}/num_samples-{}_nd-{}_seed-{}\"\n",
    ").groupby(\"d\").mean()\n",
    ")\n",
    "sphere_reference_result"
   ]
  },
  {
   "cell_type": "markdown",
   "id": "bf18f8cd-8bef-4601-9834-b6553f718415",
   "metadata": {
    "id": "bf18f8cd-8bef-4601-9834-b6553f718415"
   },
   "source": [
    "### Load benchmark results"
   ]
  },
  {
   "cell_type": "code",
   "execution_count": null,
   "id": "559291ad-5e13-4ab5-9b53-d2903283f8fd",
   "metadata": {
    "colab": {
     "base_uri": "https://localhost:8080/",
     "height": 419
    },
    "executionInfo": {
     "elapsed": 3507,
     "status": "ok",
     "timestamp": 1622137334653,
     "user": {
      "displayName": "Yicheng Luo",
      "photoUrl": "https://lh3.googleusercontent.com/a-/AOh14Ghsi29q6LEagIn9zJULHRFIoNQ8JnxNZdQGnJsyyg=s64",
      "userId": "00773862150143356368"
     },
     "user_tz": -60
    },
    "id": "559291ad-5e13-4ab5-9b53-d2903283f8fd",
    "outputId": "a05ea1be-d09c-4e54-d725-0bc34290cc49"
   },
   "outputs": [],
   "source": [
    "sphere_result = read_experiment(\n",
    "    RESULT_PATH,\n",
    "    collections.OrderedDict([\n",
    "        (\"method\", [\"dmc\", \"pimais\", \"hpimais\", \"stratified\"]),\n",
    "        (\"num_samples\", [int(1e6)]),\n",
    "        (\"d\", np.arange(3, 11)),\n",
    "        (\"seed\", np.arange(20)),\n",
    "    ]),\n",
    "    \"sphere/{}/num_samples-{}_nd-{}_seed-{}\",\n",
    ")\n",
    "sphere_result"
   ]
  },
  {
   "cell_type": "markdown",
   "id": "e8aafb24-8826-4151-a388-d96e3c6db73e",
   "metadata": {
    "id": "e8aafb24-8826-4151-a388-d96e3c6db73e"
   },
   "source": [
    "### Plotting"
   ]
  },
  {
   "cell_type": "code",
   "execution_count": null,
   "id": "ed08cd4e-e189-4879-88b2-0cb593e5fcdd",
   "metadata": {
    "colab": {
     "base_uri": "https://localhost:8080/",
     "height": 281
    },
    "executionInfo": {
     "elapsed": 1810,
     "status": "ok",
     "timestamp": 1622137336460,
     "user": {
      "displayName": "Yicheng Luo",
      "photoUrl": "https://lh3.googleusercontent.com/a-/AOh14Ghsi29q6LEagIn9zJULHRFIoNQ8JnxNZdQGnJsyyg=s64",
      "userId": "00773862150143356368"
     },
     "user_tz": -60
    },
    "id": "ed08cd4e-e189-4879-88b2-0cb593e5fcdd",
    "outputId": "aced9a02-806e-475e-a492-6f503c5faca9"
   },
   "outputs": [],
   "source": [
    "data = (\n",
    "    sphere_result\n",
    "    .pipe(rename_method)\n",
    "    .assign(method=lambda df: pd.Categorical(df.method, categories=['DMC', 'qCoral', 'SYMPAIS', 'SYMPAIS-H']))\n",
    "    .set_index(['d', 'method'])\n",
    "    .assign(rae=lambda df: relative_absolute_error(df['mean'], sphere_reference_result['mean']))\n",
    "    .reset_index()\n",
    ")\n",
    "\n",
    "fig, ax = plt.subplots()\n",
    "sns.barplot(x=\"d\", y=\"rae\", \n",
    "            hue=\"method\", data=data, ax=ax)\n",
    "ax.set_yscale(\"log\")\n",
    "ax.set(ylabel=\"RAE\", xlabel=\"$d$\")\n",
    "ax.legend(title=None, fontsize=8);\n",
    "# plt.tight_layout()\n",
    "# plt.subplots_adjust(left=.25, bottom=.2, top=.9)\n",
    "# fig.savefig(\"images/sphere_num_dimensions_barplot.pdf\")"
   ]
  },
  {
   "cell_type": "markdown",
   "id": "e5b8c02a-d0a2-4b6a-a719-9a183f8521d2",
   "metadata": {
    "id": "e5b8c02a-d0a2-4b6a-a719-9a183f8521d2"
   },
   "source": [
    "## Torus\n",
    "This section shows the results for the torus benchmark"
   ]
  },
  {
   "cell_type": "markdown",
   "id": "e4265734-9872-4acf-ba29-baa3166fd6c5",
   "metadata": {
    "id": "e4265734-9872-4acf-ba29-baa3166fd6c5"
   },
   "source": [
    "### Compute reference solution"
   ]
  },
  {
   "cell_type": "code",
   "execution_count": null,
   "id": "2e1f0272-e765-4e61-9dc4-fc4fdf98c04f",
   "metadata": {
    "colab": {
     "base_uri": "https://localhost:8080/",
     "height": 142
    },
    "executionInfo": {
     "elapsed": 530,
     "status": "ok",
     "timestamp": 1622137336987,
     "user": {
      "displayName": "Yicheng Luo",
      "photoUrl": "https://lh3.googleusercontent.com/a-/AOh14Ghsi29q6LEagIn9zJULHRFIoNQ8JnxNZdQGnJsyyg=s64",
      "userId": "00773862150143356368"
     },
     "user_tz": -60
    },
    "id": "2e1f0272-e765-4e61-9dc4-fc4fdf98c04f",
    "outputId": "5de4fda4-9900-414e-8496-7e751d9d079e"
   },
   "outputs": [],
   "source": [
    "torus_reference_result = read_experiment(\n",
    "    RESULT_PATH,\n",
    "    collections.OrderedDict([\n",
    "        (\"method\", [\"dmc\"]),\n",
    "        (\"num_samples\", [int(1e8)]),\n",
    "        (\"profile\", ['independent', 'correlated']),\n",
    "        (\"seed\", np.arange(20)),\n",
    "    ]),\n",
    "    \"torus/{}/num_samples-{}_profile-{}_seed-{}\"\n",
    ").groupby('profile').mean()\n",
    "torus_reference_result"
   ]
  },
  {
   "cell_type": "markdown",
   "id": "a8266447-9d81-49ad-8da2-05e8d4118177",
   "metadata": {
    "id": "a8266447-9d81-49ad-8da2-05e8d4118177"
   },
   "source": [
    "### Load benchmark results (independent)"
   ]
  },
  {
   "cell_type": "code",
   "execution_count": null,
   "id": "4979c828-c125-4c5c-bb86-ef07a3b7f93c",
   "metadata": {
    "executionInfo": {
     "elapsed": 863,
     "status": "ok",
     "timestamp": 1622137339553,
     "user": {
      "displayName": "Yicheng Luo",
      "photoUrl": "https://lh3.googleusercontent.com/a-/AOh14Ghsi29q6LEagIn9zJULHRFIoNQ8JnxNZdQGnJsyyg=s64",
      "userId": "00773862150143356368"
     },
     "user_tz": -60
    },
    "id": "4979c828-c125-4c5c-bb86-ef07a3b7f93c"
   },
   "outputs": [],
   "source": [
    "torus_independent_result = read_experiment(\n",
    "    RESULT_PATH,\n",
    "    collections.OrderedDict([\n",
    "        (\"method\", [\"pimais\", \"hpimais\", \"dmc\", \"stratified\"]),\n",
    "        (\"num_samples\", [int(1e6)]),\n",
    "        (\"profile\", ['independent']),\n",
    "        (\"seed\", np.arange(20)),\n",
    "    ]),\n",
    "    \"torus/{}/num_samples-{}_profile-{}_seed-{}\", verbose=False\n",
    ")"
   ]
  },
  {
   "cell_type": "markdown",
   "id": "bd541067-c1e7-4566-a0d7-d825b31c635e",
   "metadata": {
    "id": "bd541067-c1e7-4566-a0d7-d825b31c635e"
   },
   "source": [
    "### Plotting "
   ]
  },
  {
   "cell_type": "code",
   "execution_count": null,
   "id": "ea35fd84-18b4-4e7a-a947-e2fe98c6845a",
   "metadata": {
    "colab": {
     "base_uri": "https://localhost:8080/",
     "height": 237
    },
    "executionInfo": {
     "elapsed": 520,
     "status": "ok",
     "timestamp": 1622137340071,
     "user": {
      "displayName": "Yicheng Luo",
      "photoUrl": "https://lh3.googleusercontent.com/a-/AOh14Ghsi29q6LEagIn9zJULHRFIoNQ8JnxNZdQGnJsyyg=s64",
      "userId": "00773862150143356368"
     },
     "user_tz": -60
    },
    "id": "ea35fd84-18b4-4e7a-a947-e2fe98c6845a",
    "outputId": "f746228f-a892-4124-9cfe-ebc8c8afc53b"
   },
   "outputs": [],
   "source": [
    "# Massage data into the desired format\n",
    "data = (\n",
    "    torus_independent_result\n",
    "    .pipe(rename_method)\n",
    "    .assign(method=lambda df: pd.Categorical(df.method, categories=['DMC', 'qCoral', 'SYMPAIS', 'SYMPAIS-H']))\n",
    "    .set_index(['profile', 'method'])\n",
    "    .assign(\n",
    "        rae=lambda df: relative_absolute_error(df['mean'], torus_reference_result['mean'])\n",
    "    )\n",
    "    #.groupby(['profile', 'method']).mean()\n",
    ").reset_index()\n",
    "\n",
    "fig, ax = plt.subplots()\n",
    "#     fig.set_size_inches(3.33 * .5, 3.33 * .5 * .6)\n",
    "\n",
    "sns.barplot(x=\"method\", y=\"rae\", data=data, \n",
    "            ax=ax, palette=PALETTE)\n",
    "plt.yscale(\"log\")\n",
    "ax.set(ylabel=\"RAE\", title=\"Torus (independent)\")\n",
    "#     plt.tight_layout()\n",
    "plt.subplots_adjust(top=.8, bottom=.2, left=.25)\n",
    "ax.yaxis.set_minor_locator(matplotlib.ticker.NullLocator())\n",
    "# ax.yaxis.set_major_locator(matplotlib.ticker.FixedLocator([0.1, .01, .001, 0.0001]))\n",
    "#     ax.set_ylim((1e-4, 1e-1))\n",
    "ax.tick_params(axis=\"x\", which=\"major\")\n",
    "#     ax.tick_params(axis=\"x\", labelrotation=30)\n",
    "ax.set_xlabel(\"\");"
   ]
  },
  {
   "cell_type": "markdown",
   "id": "46c599a9-aa59-457c-b95e-c797ed0c5722",
   "metadata": {
    "id": "46c599a9-aa59-457c-b95e-c797ed0c5722"
   },
   "source": [
    "### Load benchmark results (correlated)"
   ]
  },
  {
   "cell_type": "code",
   "execution_count": null,
   "id": "a2d064bf-8c67-4fa2-9056-8f6d24b74cf8",
   "metadata": {
    "executionInfo": {
     "elapsed": 513,
     "status": "ok",
     "timestamp": 1622137341909,
     "user": {
      "displayName": "Yicheng Luo",
      "photoUrl": "https://lh3.googleusercontent.com/a-/AOh14Ghsi29q6LEagIn9zJULHRFIoNQ8JnxNZdQGnJsyyg=s64",
      "userId": "00773862150143356368"
     },
     "user_tz": -60
    },
    "id": "a2d064bf-8c67-4fa2-9056-8f6d24b74cf8"
   },
   "outputs": [],
   "source": [
    "torus_correlated_result = read_experiment(\n",
    "    RESULT_PATH,\n",
    "    collections.OrderedDict([\n",
    "        (\"method\", [\"pimais\", \"hpimais\", \"dmc\"]),\n",
    "        (\"num_samples\", [int(1e6)]),\n",
    "        (\"profile\", ['correlated']),\n",
    "        (\"seed\", np.arange(20)),\n",
    "    ]),\n",
    "    \"torus/{}/num_samples-{}_profile-{}_seed-{}\", verbose=False\n",
    ")\n",
    "data = (\n",
    "    torus_correlated_result\n",
    "    .pipe(rename_method)\n",
    "    # .assign(method=lambda df: pd.Categorical(df.method, categories=['DMC', 'qCoral', 'SYMPAIS', 'SYMPAIS-H']))\n",
    "    .set_index(['profile', 'method', 'seed'])\n",
    "    .assign(rae=lambda df: relative_absolute_error(df['mean'], torus_reference_result['mean']))\n",
    "    # .groupby(['profile', 'method']).mean()\n",
    "    .reset_index()\n",
    ")"
   ]
  },
  {
   "cell_type": "markdown",
   "id": "375c7c3b-3919-4357-86e0-71ce0f72b38e",
   "metadata": {
    "id": "375c7c3b-3919-4357-86e0-71ce0f72b38e"
   },
   "source": [
    "### Plotting (correlated)"
   ]
  },
  {
   "cell_type": "code",
   "execution_count": null,
   "id": "5b6cf915-a952-4080-bc15-5b59866b345d",
   "metadata": {
    "colab": {
     "base_uri": "https://localhost:8080/",
     "height": 237
    },
    "executionInfo": {
     "elapsed": 634,
     "status": "ok",
     "timestamp": 1622137343601,
     "user": {
      "displayName": "Yicheng Luo",
      "photoUrl": "https://lh3.googleusercontent.com/a-/AOh14Ghsi29q6LEagIn9zJULHRFIoNQ8JnxNZdQGnJsyyg=s64",
      "userId": "00773862150143356368"
     },
     "user_tz": -60
    },
    "id": "5b6cf915-a952-4080-bc15-5b59866b345d",
    "outputId": "3aea8f92-bedd-4487-8012-71736ef67b93"
   },
   "outputs": [],
   "source": [
    "fig, ax = plt.subplots()\n",
    "#     fig.set_size_inches(3.33 * .5, 3.33 * .5 * .6)\n",
    "\n",
    "sns.barplot(x=\"method\", y=\"rae\", data=data, ax=ax, palette=PALETTE,\n",
    "           order=['DMC', 'SYMPAIS', 'SYMPAIS-H']\n",
    "           )\n",
    "plt.yscale(\"log\")\n",
    "ax.set(ylabel=\"RAE\", title=\"Torus (correlated)\")\n",
    "#     plt.tight_layout()\n",
    "plt.subplots_adjust(top=.8, bottom=.2, left=.25)\n",
    "ax.yaxis.set_minor_locator(matplotlib.ticker.NullLocator())\n",
    "ax.yaxis.set_major_locator(matplotlib.ticker.FixedLocator([0.1, .01, .001, 0.0001]))\n",
    "#     ax.set_ylim((1e-4, 1e-1))\n",
    "ax.tick_params(axis=\"x\", which=\"major\")\n",
    "#     ax.tick_params(axis=\"x\", labelrotation=30)\n",
    "ax.set_xlabel(\"\");"
   ]
  },
  {
   "cell_type": "markdown",
   "id": "296f3b09-7ecc-4a25-bc0d-76f49c592e12",
   "metadata": {
    "id": "296f3b09-7ecc-4a25-bc0d-76f49c592e12"
   },
   "source": [
    "## Coral\n",
    "This section shows the results on the set of benchmark problems used by the qCoral paper."
   ]
  },
  {
   "cell_type": "markdown",
   "id": "db1bdfbe-100f-41a9-b0c2-90a54b6a83a3",
   "metadata": {
    "id": "db1bdfbe-100f-41a9-b0c2-90a54b6a83a3"
   },
   "source": [
    "The reference results are computed with Mathematica"
   ]
  },
  {
   "cell_type": "markdown",
   "id": "fc55ea5a-928e-4e57-92e1-66c91b1936c2",
   "metadata": {
    "id": "fc55ea5a-928e-4e57-92e1-66c91b1936c2"
   },
   "source": [
    "### Load reference results\n",
    "\n",
    "We use Mathematica to compute the reference results."
   ]
  },
  {
   "cell_type": "code",
   "execution_count": null,
   "id": "44759bc3-a0f9-408c-8f62-9ed34eaa5c30",
   "metadata": {
    "executionInfo": {
     "elapsed": 335,
     "status": "ok",
     "timestamp": 1622136015936,
     "user": {
      "displayName": "Yicheng Luo",
      "photoUrl": "https://lh3.googleusercontent.com/a-/AOh14Ghsi29q6LEagIn9zJULHRFIoNQ8JnxNZdQGnJsyyg=s64",
      "userId": "00773862150143356368"
     },
     "user_tz": -60
    },
    "id": "44759bc3-a0f9-408c-8f62-9ed34eaa5c30"
   },
   "outputs": [],
   "source": [
    "gt = \"\"\"\n",
    "filename,path_index,mean\n",
    "example-carton-5-0.m,0,7.98577e-07\n",
    "example-carton-5-0.m,1,1.70593e-11\n",
    "example-carton-5-0.m,2,1.2167e-05\n",
    "example-carton-5-0.m,3,9.19246e-07\n",
    "example-carton-5-0.m,4,0.000161042\n",
    "example-ckd-epi-0.m,0,0.00053025\n",
    "example-ckd-epi-0.m,1,0.000197691\n",
    "example-ckd-epi-0.m,2,0.000307342\n",
    "example-ckd-epi-0.m,3,0.000547318\n",
    "example-ckd-epi-0.m,4,8.81089e-05\n",
    "example-ckd-epi-simple-0.m,0,0.00222638\n",
    "example-ckd-epi-simple-0.m,1,0.00164958\n",
    "example-ckd-epi-simple-0.m,2,0.000855157\n",
    "example-ckd-epi-simple-0.m,3,0.0155994\n",
    "example-ckd-epi-simple-0.m,4,0.148682\n",
    "framingham-0.m,0,3.62258e-07\n",
    "framingham-0.m,1,0.000444308\n",
    "framingham-0.m,2,0.000523834\n",
    "framingham-0.m,3,7.78248e-06\n",
    "framingham-0.m,4,0.00106958\n",
    "example-cart-12.m,0,4.30306e-05\n",
    "example-cart-12.m,1,4.03696e-05\n",
    "example-cart-12.m,2,0.00767075\n",
    "example-cart-12.m,3,0.000223309\n",
    "example-cart-12.m,4,0.000223309\n",
    "\"\"\""
   ]
  },
  {
   "cell_type": "code",
   "execution_count": null,
   "id": "ccb69b41-2468-49f0-b1df-3f355a716945",
   "metadata": {
    "colab": {
     "base_uri": "https://localhost:8080/",
     "height": 855
    },
    "executionInfo": {
     "elapsed": 6,
     "status": "ok",
     "timestamp": 1622136015937,
     "user": {
      "displayName": "Yicheng Luo",
      "photoUrl": "https://lh3.googleusercontent.com/a-/AOh14Ghsi29q6LEagIn9zJULHRFIoNQ8JnxNZdQGnJsyyg=s64",
      "userId": "00773862150143356368"
     },
     "user_tz": -60
    },
    "id": "ccb69b41-2468-49f0-b1df-3f355a716945",
    "outputId": "9a7f6e46-83d6-45fc-c4ef-b1b60ddb92a9"
   },
   "outputs": [],
   "source": [
    "import io\n",
    "coral_reference_results = pd.read_csv(io.StringIO(gt)).rename(columns={\n",
    "    \"filename\": \"subject\",\n",
    "    \"path_index\": \"path\",\n",
    "    \"mean\": \"mean\"\n",
    "}).set_index(['subject', 'path'])\n",
    "coral_reference_results"
   ]
  },
  {
   "cell_type": "markdown",
   "id": "93b5ebd2-8cf9-493d-9ed8-c483a79fd8e3",
   "metadata": {
    "id": "93b5ebd2-8cf9-493d-9ed8-c483a79fd8e3"
   },
   "source": [
    "### Load benchmark results"
   ]
  },
  {
   "cell_type": "code",
   "execution_count": null,
   "id": "08b5587f-e383-49a3-af4a-2886c3eb4d2b",
   "metadata": {
    "executionInfo": {
     "elapsed": 2381,
     "status": "ok",
     "timestamp": 1622136022305,
     "user": {
      "displayName": "Yicheng Luo",
      "photoUrl": "https://lh3.googleusercontent.com/a-/AOh14Ghsi29q6LEagIn9zJULHRFIoNQ8JnxNZdQGnJsyyg=s64",
      "userId": "00773862150143356368"
     },
     "user_tz": -60
    },
    "id": "08b5587f-e383-49a3-af4a-2886c3eb4d2b"
   },
   "outputs": [],
   "source": [
    "coral_result = read_experiment(\n",
    "    RESULT_PATH,\n",
    "    collections.OrderedDict([\n",
    "        (\"method\", [\"pimais\", \"dmc\", \"stratified\"]),\n",
    "        (\"num_samples\", [int(1e6)]),\n",
    "        (\"subject\", [\"example-cart-12.m\",\n",
    "                     \"example-carton-5-0.m\",\n",
    "                     \"example-ckd-epi-0.m\",\n",
    "                     \"example-ckd-epi-simple-0.m\",\n",
    "                     \"framingham-0.m\"]),\n",
    "        (\"path\", np.arange(5)),\n",
    "        (\"seed\", np.arange(5)),\n",
    "    ]),\n",
    "    \"coral/{}/num_samples-{}_subject-{}_path-{}_seed-{}\"\n",
    ")"
   ]
  },
  {
   "cell_type": "code",
   "execution_count": null,
   "id": "YqN9jrKIyfJS",
   "metadata": {
    "colab": {
     "base_uri": "https://localhost:8080/",
     "height": 419
    },
    "executionInfo": {
     "elapsed": 16,
     "status": "ok",
     "timestamp": 1622136022308,
     "user": {
      "displayName": "Yicheng Luo",
      "photoUrl": "https://lh3.googleusercontent.com/a-/AOh14Ghsi29q6LEagIn9zJULHRFIoNQ8JnxNZdQGnJsyyg=s64",
      "userId": "00773862150143356368"
     },
     "user_tz": -60
    },
    "id": "YqN9jrKIyfJS",
    "outputId": "b2ec13b2-aaa7-4a3e-b2d2-3b24240d3c84"
   },
   "outputs": [],
   "source": [
    "coral_result"
   ]
  },
  {
   "cell_type": "markdown",
   "id": "a4a0aac6-254c-47b6-91e4-5eb5edda298f",
   "metadata": {
    "id": "a4a0aac6-254c-47b6-91e4-5eb5edda298f"
   },
   "source": [
    "### Plotting"
   ]
  },
  {
   "cell_type": "code",
   "execution_count": null,
   "id": "159932c0-479f-41b5-a654-e8910a3c03eb",
   "metadata": {
    "colab": {
     "base_uri": "https://localhost:8080/",
     "height": 187
    },
    "executionInfo": {
     "elapsed": 3721,
     "status": "ok",
     "timestamp": 1622136077505,
     "user": {
      "displayName": "Yicheng Luo",
      "photoUrl": "https://lh3.googleusercontent.com/a-/AOh14Ghsi29q6LEagIn9zJULHRFIoNQ8JnxNZdQGnJsyyg=s64",
      "userId": "00773862150143356368"
     },
     "user_tz": -60
    },
    "id": "159932c0-479f-41b5-a654-e8910a3c03eb",
    "outputId": "1f9c12ff-a48f-42f3-9dbe-bb82c655e35e"
   },
   "outputs": [],
   "source": [
    "data = (\n",
    "    coral_result\n",
    "    .pipe(rename_method)\n",
    "    .assign(method=lambda df: pd.Categorical(df.method, categories=['DMC', 'qCoral', 'SYMPAIS']))\n",
    "    .set_index(['subject', 'path', 'method', 'seed'])\n",
    "    .assign(rae=lambda d: \n",
    "            relative_absolute_error(d['mean'], coral_reference_results['mean']))\n",
    "    .reset_index()\n",
    ")\n",
    "data = data.rename(columns={\"path\": \"Path Constraint ID\"})\n",
    "data[\"subject\"] = data[\"subject\"].str.extract(r\"(example-)?([a-z-\\d]+)\\.\").iloc[:, 1]\n",
    "g = sns.catplot(\n",
    "    x=\"Path Constraint ID\",\n",
    "    y=\"rae\",\n",
    "    col=\"subject\",\n",
    "    hue=\"method\",\n",
    "#     ci=\"sd\",\n",
    "    data=data,\n",
    "    kind=\"bar\",\n",
    "    sharey=True,\n",
    "    sharex=False,\n",
    "    palette=PALETTE,\n",
    "    legend=True,\n",
    "#     col_wrap=3,\n",
    "    height=2\n",
    ")\n",
    "g.set(yscale=\"log\")\n",
    "# plt.gcf().set_size_inches((6, 6/4))\n",
    "g.set_titles(col_template=\"{col_name}\")\n",
    "g.axes.flat[0].set(ylabel=\"RAE\");\n",
    "# g.axes[3].set(ylabel=\"RAE\");"
   ]
  },
  {
   "cell_type": "markdown",
   "id": "53f5915f-c0b1-4512-a1e0-01f34595d0c1",
   "metadata": {
    "id": "53f5915f-c0b1-4512-a1e0-01f34595d0c1"
   },
   "source": [
    "## ACAS Xu"
   ]
  },
  {
   "cell_type": "code",
   "execution_count": null,
   "id": "14e2f10f-0f2f-4e3a-937d-f0773ed662c4",
   "metadata": {
    "colab": {
     "base_uri": "https://localhost:8080/",
     "height": 235
    },
    "executionInfo": {
     "elapsed": 849,
     "status": "ok",
     "timestamp": 1622136209721,
     "user": {
      "displayName": "Yicheng Luo",
      "photoUrl": "https://lh3.googleusercontent.com/a-/AOh14Ghsi29q6LEagIn9zJULHRFIoNQ8JnxNZdQGnJsyyg=s64",
      "userId": "00773862150143356368"
     },
     "user_tz": -60
    },
    "id": "14e2f10f-0f2f-4e3a-937d-f0773ed662c4",
    "outputId": "0f68f7f6-c913-4101-9b96-be1ed36554e6"
   },
   "outputs": [],
   "source": [
    "import io\n",
    "acasxu_reference_results = read_experiment(\n",
    "    RESULT_PATH,\n",
    "    collections.OrderedDict([\n",
    "        (\"method\", [\"dmc\"]),\n",
    "        (\"num_samples\", [int(1e7)]),\n",
    "        (\"path\", np.arange(5)),\n",
    "        (\"seed\", np.arange(20)),\n",
    "    ]),\n",
    "    \"acasxu/{}/num_samples-{}_path-{}_seed-{}\"\n",
    ").groupby('path').mean()\n",
    "acasxu_reference_results"
   ]
  },
  {
   "cell_type": "code",
   "execution_count": null,
   "id": "0562fd18-dc5a-4695-8651-408b898d3e6f",
   "metadata": {
    "executionInfo": {
     "elapsed": 1752,
     "status": "ok",
     "timestamp": 1622136211755,
     "user": {
      "displayName": "Yicheng Luo",
      "photoUrl": "https://lh3.googleusercontent.com/a-/AOh14Ghsi29q6LEagIn9zJULHRFIoNQ8JnxNZdQGnJsyyg=s64",
      "userId": "00773862150143356368"
     },
     "user_tz": -60
    },
    "id": "0562fd18-dc5a-4695-8651-408b898d3e6f"
   },
   "outputs": [],
   "source": [
    "acasxu_results = read_experiment(\n",
    "    RESULT_PATH,\n",
    "    collections.OrderedDict([\n",
    "        (\"method\", [\"dmc\", \"stratified\", \"pimais\"]),\n",
    "        (\"num_samples\", [int(1e6)]),\n",
    "        (\"path\", np.arange(5)),\n",
    "        (\"seed\", np.arange(20)),\n",
    "    ]),\n",
    "    \"acasxu/{}/num_samples-{}_path-{}_seed-{}\"\n",
    ")\n"
   ]
  },
  {
   "cell_type": "code",
   "execution_count": null,
   "id": "44d8d3df-7a38-4bc3-9e39-f8c438d5ccc9",
   "metadata": {
    "executionInfo": {
     "elapsed": 7,
     "status": "ok",
     "timestamp": 1622136211756,
     "user": {
      "displayName": "Yicheng Luo",
      "photoUrl": "https://lh3.googleusercontent.com/a-/AOh14Ghsi29q6LEagIn9zJULHRFIoNQ8JnxNZdQGnJsyyg=s64",
      "userId": "00773862150143356368"
     },
     "user_tz": -60
    },
    "id": "44d8d3df-7a38-4bc3-9e39-f8c438d5ccc9"
   },
   "outputs": [],
   "source": [
    "data = (\n",
    "    acasxu_results\n",
    "    .pipe(rename_method)\n",
    "    .assign(method=lambda df: pd.Categorical(df.method, categories=['DMC', 'qCoral', 'SYMPAIS']))\n",
    "    .set_index(['path', 'method', 'seed'])\n",
    "    .assign(rae=lambda d: relative_absolute_error(d['mean'], acasxu_reference_results['mean']))\n",
    "    .reset_index()\n",
    ")"
   ]
  },
  {
   "cell_type": "code",
   "execution_count": null,
   "id": "0d60e4b0-fc82-49cb-a5c7-cf2739c6710b",
   "metadata": {
    "colab": {
     "base_uri": "https://localhost:8080/",
     "height": 297
    },
    "executionInfo": {
     "elapsed": 784,
     "status": "ok",
     "timestamp": 1622136212534,
     "user": {
      "displayName": "Yicheng Luo",
      "photoUrl": "https://lh3.googleusercontent.com/a-/AOh14Ghsi29q6LEagIn9zJULHRFIoNQ8JnxNZdQGnJsyyg=s64",
      "userId": "00773862150143356368"
     },
     "user_tz": -60
    },
    "id": "0d60e4b0-fc82-49cb-a5c7-cf2739c6710b",
    "outputId": "255f9d3b-7c59-41b3-caaa-138945817fcd"
   },
   "outputs": [],
   "source": [
    "fig, ax = plt.subplots()\n",
    "sns.barplot(x=\"path\", y=\"rae\", hue=\"method\", data=data, ax=ax)\n",
    "ax.set(ylabel=\"RAE\", xlabel=\"Path Constraint ID\", yscale='log')\n",
    "ax.set_xlabel(\"Path Constraint ID\")\n",
    "plt.tight_layout()\n",
    "# plt.legend(fontsize=6)\n",
    "# fig.savefig(\"images/acasxu_barplot.pdf\")"
   ]
  }
 ],
 "metadata": {
  "colab": {
   "collapsed_sections": [],
   "name": "results.ipynb",
   "provenance": [
    {
     "file_id": "https://github.com/ethanluoyc/sympais/blob/master/notebooks/results.ipynb",
     "timestamp": 1622134060027
    }
   ],
   "toc_visible": true
  },
  "kernelspec": {
   "display_name": "Python 3",
   "language": "python",
   "name": "python3"
  },
  "language_info": {
   "codemirror_mode": {
    "name": "ipython",
    "version": 3
   },
   "file_extension": ".py",
   "mimetype": "text/x-python",
   "name": "python",
   "nbconvert_exporter": "python",
   "pygments_lexer": "ipython3",
   "version": "3.8.3"
  },
  "toc-autonumbering": true,
  "toc-showcode": false,
  "toc-showmarkdowntxt": false
 },
 "nbformat": 4,
 "nbformat_minor": 5
}
